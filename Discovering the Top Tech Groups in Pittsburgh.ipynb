{
 "cells": [
  {
   "cell_type": "markdown",
   "metadata": {},
   "source": [
    "# Which Pittsburgh Tech Groups Are The Most Prominent?"
   ]
  },
  {
   "cell_type": "code",
   "execution_count": 1,
   "metadata": {
    "collapsed": true
   },
   "outputs": [],
   "source": [
    "import pandas as pd\n",
    "import numpy as np\n",
    "import matplotlib.pyplot as plt\n",
    "import seaborn as sns\n",
    "import datetime as dt"
   ]
  },
  {
   "cell_type": "markdown",
   "metadata": {},
   "source": [
    "### First, let's load in the dataset."
   ]
  },
  {
   "cell_type": "code",
   "execution_count": 2,
   "metadata": {},
   "outputs": [
    {
     "data": {
      "text/html": [
       "<div>\n",
       "<style>\n",
       "    .dataframe thead tr:only-child th {\n",
       "        text-align: right;\n",
       "    }\n",
       "\n",
       "    .dataframe thead th {\n",
       "        text-align: left;\n",
       "    }\n",
       "\n",
       "    .dataframe tbody tr th {\n",
       "        vertical-align: top;\n",
       "    }\n",
       "</style>\n",
       "<table border=\"1\" class=\"dataframe\">\n",
       "  <thead>\n",
       "    <tr style=\"text-align: right;\">\n",
       "      <th></th>\n",
       "      <th>name</th>\n",
       "      <th>id</th>\n",
       "      <th>city</th>\n",
       "      <th>lat</th>\n",
       "      <th>lon</th>\n",
       "      <th>category</th>\n",
       "      <th>created</th>\n",
       "      <th>status</th>\n",
       "      <th>members</th>\n",
       "      <th>join_mode</th>\n",
       "      <th>past_event_count</th>\n",
       "      <th>last_event</th>\n",
       "      <th>last_rsvp</th>\n",
       "    </tr>\n",
       "  </thead>\n",
       "  <tbody>\n",
       "    <tr>\n",
       "      <th>0</th>\n",
       "      <td>Free and Almost Free in Pittsburgh</td>\n",
       "      <td>1756412</td>\n",
       "      <td>Pittsburgh</td>\n",
       "      <td>40.47</td>\n",
       "      <td>-79.95</td>\n",
       "      <td>Socializing</td>\n",
       "      <td>2010-12-30 23:15:54</td>\n",
       "      <td>active</td>\n",
       "      <td>17740</td>\n",
       "      <td>open</td>\n",
       "      <td>9864</td>\n",
       "      <td>2018-01-22 19:00:00</td>\n",
       "      <td>1</td>\n",
       "    </tr>\n",
       "    <tr>\n",
       "      <th>1</th>\n",
       "      <td>The Pittsburgh Hiking Meetup Group</td>\n",
       "      <td>513500</td>\n",
       "      <td>Pittsburgh</td>\n",
       "      <td>40.45</td>\n",
       "      <td>-79.99</td>\n",
       "      <td>Outdoors &amp; Adventure</td>\n",
       "      <td>2007-05-29 06:48:49</td>\n",
       "      <td>active</td>\n",
       "      <td>6873</td>\n",
       "      <td>approval</td>\n",
       "      <td>3925</td>\n",
       "      <td>2018-01-23 06:15:00</td>\n",
       "      <td>3</td>\n",
       "    </tr>\n",
       "    <tr>\n",
       "      <th>2</th>\n",
       "      <td>Pittsburgh Singles Over-50 Meetup</td>\n",
       "      <td>21721579</td>\n",
       "      <td>Pittsburgh</td>\n",
       "      <td>40.45</td>\n",
       "      <td>-79.99</td>\n",
       "      <td>Socializing</td>\n",
       "      <td>2016-12-30 22:38:58</td>\n",
       "      <td>active</td>\n",
       "      <td>547</td>\n",
       "      <td>approval</td>\n",
       "      <td>74</td>\n",
       "      <td>2018-01-17 17:45:00</td>\n",
       "      <td>25</td>\n",
       "    </tr>\n",
       "    <tr>\n",
       "      <th>3</th>\n",
       "      <td>The Pittsburgh Cultural Arts Meetup Group</td>\n",
       "      <td>1318900</td>\n",
       "      <td>Pittsburgh</td>\n",
       "      <td>40.44</td>\n",
       "      <td>-79.95</td>\n",
       "      <td>Arts &amp; Culture</td>\n",
       "      <td>2008-11-10 20:40:33</td>\n",
       "      <td>active</td>\n",
       "      <td>6245</td>\n",
       "      <td>open</td>\n",
       "      <td>1237</td>\n",
       "      <td>2018-01-21 16:25:00</td>\n",
       "      <td>4</td>\n",
       "    </tr>\n",
       "    <tr>\n",
       "      <th>4</th>\n",
       "      <td>The Pittsburgh Social Club!</td>\n",
       "      <td>1773927</td>\n",
       "      <td>Pittsburgh</td>\n",
       "      <td>40.47</td>\n",
       "      <td>-79.92</td>\n",
       "      <td>Socializing</td>\n",
       "      <td>2011-01-27 19:15:11</td>\n",
       "      <td>active</td>\n",
       "      <td>5304</td>\n",
       "      <td>open</td>\n",
       "      <td>3595</td>\n",
       "      <td>2018-01-22 19:00:00</td>\n",
       "      <td>6</td>\n",
       "    </tr>\n",
       "  </tbody>\n",
       "</table>\n",
       "</div>"
      ],
      "text/plain": [
       "                                        name        id        city    lat  \\\n",
       "0         Free and Almost Free in Pittsburgh   1756412  Pittsburgh  40.47   \n",
       "1         The Pittsburgh Hiking Meetup Group    513500  Pittsburgh  40.45   \n",
       "2          Pittsburgh Singles Over-50 Meetup  21721579  Pittsburgh  40.45   \n",
       "3  The Pittsburgh Cultural Arts Meetup Group   1318900  Pittsburgh  40.44   \n",
       "4                The Pittsburgh Social Club!   1773927  Pittsburgh  40.47   \n",
       "\n",
       "     lon              category              created  status  members  \\\n",
       "0 -79.95           Socializing  2010-12-30 23:15:54  active    17740   \n",
       "1 -79.99  Outdoors & Adventure  2007-05-29 06:48:49  active     6873   \n",
       "2 -79.99           Socializing  2016-12-30 22:38:58  active      547   \n",
       "3 -79.95        Arts & Culture  2008-11-10 20:40:33  active     6245   \n",
       "4 -79.92           Socializing  2011-01-27 19:15:11  active     5304   \n",
       "\n",
       "  join_mode  past_event_count           last_event  last_rsvp  \n",
       "0      open              9864  2018-01-22 19:00:00          1  \n",
       "1  approval              3925  2018-01-23 06:15:00          3  \n",
       "2  approval                74  2018-01-17 17:45:00         25  \n",
       "3      open              1237  2018-01-21 16:25:00          4  \n",
       "4      open              3595  2018-01-22 19:00:00          6  "
      ]
     },
     "execution_count": 2,
     "metadata": {},
     "output_type": "execute_result"
    }
   ],
   "source": [
    "# The dataset we will be using can be found at my github.\n",
    "# It was obtained via the meetup.com API using a custom python script I created.\n",
    "# If you'd like to generate a more recent dataset on Pittsburgh and/or a different location, \n",
    "# check out https://github.com/awgraves/meetup_api\n",
    "\n",
    "df = pd.read_csv(\"pgh_meetup_groups_Jan_23_2018.csv\")\n",
    "df.head()"
   ]
  },
  {
   "cell_type": "code",
   "execution_count": 3,
   "metadata": {},
   "outputs": [
    {
     "data": {
      "text/plain": [
       "(935, 13)"
      ]
     },
     "execution_count": 3,
     "metadata": {},
     "output_type": "execute_result"
    }
   ],
   "source": [
    "df.shape"
   ]
  },
  {
   "cell_type": "markdown",
   "metadata": {},
   "source": [
    "### The original dataset contains all meetups within a 50 mile radius, but let's only look at Pittsburgh and not the surrounding area:"
   ]
  },
  {
   "cell_type": "code",
   "execution_count": 4,
   "metadata": {},
   "outputs": [
    {
     "data": {
      "text/plain": [
       "(683, 13)"
      ]
     },
     "execution_count": 4,
     "metadata": {},
     "output_type": "execute_result"
    }
   ],
   "source": [
    "df = df[df[\"city\"]==\"Pittsburgh\"]\n",
    "df.reset_index(drop=True, inplace=True)\n",
    "df.shape"
   ]
  },
  {
   "cell_type": "code",
   "execution_count": 5,
   "metadata": {},
   "outputs": [
    {
     "data": {
      "text/plain": [
       "<matplotlib.axes._subplots.AxesSubplot at 0x103bc15c0>"
      ]
     },
     "execution_count": 5,
     "metadata": {},
     "output_type": "execute_result"
    },
    {
     "data": {
      "image/png": "[encoded data removed]",
      "text/plain": [
       "<matplotlib.figure.Figure at 0x1a0b0b5e48>"
      ]
     },
     "metadata": {},
     "output_type": "display_data"
    }
   ],
   "source": [
    "%matplotlib inline\n",
    "\n",
    "#Which categories are most popular?\n",
    "cat_group_counts = df.groupby(\"category\").size().sort_values(ascending=False)[:10]\n",
    "\n",
    "cat_group_counts.plot(kind=\"bar\", title=\"Top 10 Meetup Group Categories\")"
   ]
  },
  {
   "cell_type": "code",
   "execution_count": 6,
   "metadata": {},
   "outputs": [
    {
     "name": "stdout",
     "output_type": "stream",
     "text": [
      "['Tech', 'Career & Business', 'Socializing', 'Health & Wellbeing', 'New Age & Spirituality', 'Sports & Recreation', 'Outdoors & Adventure', 'Language & Ethnic Identity', 'Food & Drink', 'Support']\n"
     ]
    }
   ],
   "source": [
    "print(cat_group_counts.keys().tolist())"
   ]
  },
  {
   "cell_type": "code",
   "execution_count": 7,
   "metadata": {},
   "outputs": [
    {
     "data": {
      "image/png": "[encoded data removed]",
      "text/plain": [
       "<matplotlib.figure.Figure at 0x1a0b2de780>"
      ]
     },
     "metadata": {},
     "output_type": "display_data"
    }
   ],
   "source": [
    "#Let's make this bar chart nice and pretty\n",
    "from matplotlib import cm\n",
    "color = cm.PuBu(np.linspace(1, .2, 10)) #import the colormap to color the bars\n",
    "\n",
    "N = 10\n",
    "group_values = cat_group_counts.tolist() #number of groups\n",
    "group_labels = cat_group_counts.keys().tolist()\n",
    "\n",
    "ind = np.arange(N)  # the x locations for the groups\n",
    "width = 0.65       # the width of the bars\n",
    "\n",
    "fig = plt.figure(figsize=(9,7))\n",
    "ax = fig.add_subplot(1,1,1)\n",
    "\n",
    "#line_widths = [3.0 if i == 1 else 1.0 for i in range(N)]\n",
    "groups = ax.bar(ind, group_values, width, color=color, linewidth=1.0, edgecolor = \"black\")\n",
    "\n",
    "# add some axis labels and clean up the graph space of unnecessary ink\n",
    "ax.set_ylabel('# of Registered Meetup Groups', size=15)\n",
    "ax.set_xticks(ind)\n",
    "ax.set_xticklabels(group_labels, rotation = 42, ha=\"right\", size = 11)\n",
    "ax.tick_params(left=\"off\")\n",
    "ax.set_yticklabels([])\n",
    "ax.spines[\"right\"].set_visible(False)\n",
    "ax.spines[\"top\"].set_visible(False)\n",
    "ax.spines[\"left\"].set_visible(False)\n",
    "\n",
    "#adding text\n",
    "ax.text(1.30,130,\"Tech Groups Are #1 in Pittsburgh\", horizontalalignment='left', size = 20, weight=\"bold\")\n",
    "ax.text(7.0, -45, \"Created by: Andrew Graves\", horizontalalignment=\"left\", size=8)\n",
    "ax.text(7.0, -50, \"Data Source: meetup.com 1/23/18\", horizontalalignment=\"left\", size=8)\n",
    "\n",
    "def autolabel(rects):\n",
    "    \"\"\"\n",
    "    Attach a text label above each bar displaying its height\n",
    "    \"\"\"\n",
    "    for rect in rects:\n",
    "        height = rect.get_height()\n",
    "        ax.text(rect.get_x() + rect.get_width()/2., height + .2,\n",
    "                '%d' % int(height),\n",
    "                ha='center', va='bottom')\n",
    "\n",
    "autolabel(groups)\n",
    "\n",
    "#export the bar chart to a file\n",
    "plt.savefig('tech_groups_pgh.jpeg', edgecolor='black', bbox_inches='tight', facecolor=fig.get_facecolor(), frameon=True)\n",
    "plt.show()"
   ]
  },
  {
   "cell_type": "markdown",
   "metadata": {},
   "source": [
    "# Which of the 135 different tech groups are the most prominent?"
   ]
  },
  {
   "cell_type": "code",
   "execution_count": 8,
   "metadata": {
    "collapsed": true
   },
   "outputs": [],
   "source": [
    "#only want tech groups\n",
    "df = df[df[\"category\"]==\"Tech\"].reset_index(drop=True)\n",
    "\n",
    "#our category column is now redundant\n",
    "df.drop([\"category\"], axis = 1, inplace = True)"
   ]
  },
  {
   "cell_type": "code",
   "execution_count": 9,
   "metadata": {},
   "outputs": [
    {
     "data": {
      "text/plain": [
       "(135, 12)"
      ]
     },
     "execution_count": 9,
     "metadata": {},
     "output_type": "execute_result"
    }
   ],
   "source": [
    "df.shape"
   ]
  },
  {
   "cell_type": "code",
   "execution_count": 10,
   "metadata": {
    "collapsed": true
   },
   "outputs": [],
   "source": [
    "#get rid of some unnecessary columns for the purpose of our investigation\n",
    "df.drop([\"id\",\"city\",\"lat\",\"lon\"], inplace = True, axis = 1)"
   ]
  },
  {
   "cell_type": "code",
   "execution_count": 11,
   "metadata": {},
   "outputs": [
    {
     "data": {
      "text/html": [
       "<div>\n",
       "<style>\n",
       "    .dataframe thead tr:only-child th {\n",
       "        text-align: right;\n",
       "    }\n",
       "\n",
       "    .dataframe thead th {\n",
       "        text-align: left;\n",
       "    }\n",
       "\n",
       "    .dataframe tbody tr th {\n",
       "        vertical-align: top;\n",
       "    }\n",
       "</style>\n",
       "<table border=\"1\" class=\"dataframe\">\n",
       "  <thead>\n",
       "    <tr style=\"text-align: right;\">\n",
       "      <th></th>\n",
       "      <th>name</th>\n",
       "      <th>created</th>\n",
       "      <th>status</th>\n",
       "      <th>members</th>\n",
       "      <th>join_mode</th>\n",
       "      <th>past_event_count</th>\n",
       "      <th>last_event</th>\n",
       "      <th>last_rsvp</th>\n",
       "    </tr>\n",
       "  </thead>\n",
       "  <tbody>\n",
       "    <tr>\n",
       "      <th>0</th>\n",
       "      <td>Blockchain Developers and Enthusiasts United</td>\n",
       "      <td>2017-10-28 19:35:41</td>\n",
       "      <td>active</td>\n",
       "      <td>213</td>\n",
       "      <td>open</td>\n",
       "      <td>6</td>\n",
       "      <td>2018-01-18 18:30:00</td>\n",
       "      <td>67</td>\n",
       "    </tr>\n",
       "    <tr>\n",
       "      <th>1</th>\n",
       "      <td>WordPress Pittsburgh</td>\n",
       "      <td>2014-08-06 08:00:37</td>\n",
       "      <td>active</td>\n",
       "      <td>819</td>\n",
       "      <td>open</td>\n",
       "      <td>57</td>\n",
       "      <td>2018-01-09 07:30:00</td>\n",
       "      <td>17</td>\n",
       "    </tr>\n",
       "    <tr>\n",
       "      <th>2</th>\n",
       "      <td>Pittsburgh Code &amp; Supply</td>\n",
       "      <td>2014-03-20 09:40:46</td>\n",
       "      <td>active</td>\n",
       "      <td>3557</td>\n",
       "      <td>open</td>\n",
       "      <td>313</td>\n",
       "      <td>2018-01-05 11:00:00</td>\n",
       "      <td>8</td>\n",
       "    </tr>\n",
       "    <tr>\n",
       "      <th>3</th>\n",
       "      <td>Girl Develop It Pittsburgh</td>\n",
       "      <td>2012-06-13 20:49:34</td>\n",
       "      <td>active</td>\n",
       "      <td>2051</td>\n",
       "      <td>open</td>\n",
       "      <td>96</td>\n",
       "      <td>2018-01-18 19:00:00</td>\n",
       "      <td>37</td>\n",
       "    </tr>\n",
       "    <tr>\n",
       "      <th>4</th>\n",
       "      <td>PGH Data Science</td>\n",
       "      <td>2017-02-02 15:37:53</td>\n",
       "      <td>active</td>\n",
       "      <td>753</td>\n",
       "      <td>open</td>\n",
       "      <td>9</td>\n",
       "      <td>2018-01-10 16:00:00</td>\n",
       "      <td>72</td>\n",
       "    </tr>\n",
       "  </tbody>\n",
       "</table>\n",
       "</div>"
      ],
      "text/plain": [
       "                                           name              created  status  \\\n",
       "0  Blockchain Developers and Enthusiasts United  2017-10-28 19:35:41  active   \n",
       "1                          WordPress Pittsburgh  2014-08-06 08:00:37  active   \n",
       "2                      Pittsburgh Code & Supply  2014-03-20 09:40:46  active   \n",
       "3                    Girl Develop It Pittsburgh  2012-06-13 20:49:34  active   \n",
       "4                              PGH Data Science  2017-02-02 15:37:53  active   \n",
       "\n",
       "   members join_mode  past_event_count           last_event  last_rsvp  \n",
       "0      213      open                 6  2018-01-18 18:30:00         67  \n",
       "1      819      open                57  2018-01-09 07:30:00         17  \n",
       "2     3557      open               313  2018-01-05 11:00:00          8  \n",
       "3     2051      open                96  2018-01-18 19:00:00         37  \n",
       "4      753      open                 9  2018-01-10 16:00:00         72  "
      ]
     },
     "execution_count": 11,
     "metadata": {},
     "output_type": "execute_result"
    }
   ],
   "source": [
    "df.head()"
   ]
  },
  {
   "cell_type": "code",
   "execution_count": 12,
   "metadata": {},
   "outputs": [
    {
     "data": {
      "text/plain": [
       "active    135\n",
       "Name: status, dtype: int64"
      ]
     },
     "execution_count": 12,
     "metadata": {},
     "output_type": "execute_result"
    }
   ],
   "source": [
    "# We don't want to join a group that is in a grace period!\n",
    "df.status.value_counts()"
   ]
  },
  {
   "cell_type": "code",
   "execution_count": 13,
   "metadata": {},
   "outputs": [
    {
     "data": {
      "text/plain": [
       "(135, 7)"
      ]
     },
     "execution_count": 13,
     "metadata": {},
     "output_type": "execute_result"
    }
   ],
   "source": [
    "#Looks like all are active, but just in case you want to load in a new dataset lets be sure we get it right...\n",
    "df = df[df[\"status\"] == \"active\"]\n",
    "\n",
    "#The status column is now redundant\n",
    "df.drop([\"status\"], axis = 1, inplace = True)\n",
    "df.shape"
   ]
  },
  {
   "cell_type": "code",
   "execution_count": 14,
   "metadata": {
    "collapsed": true
   },
   "outputs": [],
   "source": [
    "#we also don't really care about how the members join\n",
    "df.drop([\"join_mode\"], axis = 1, inplace = True)"
   ]
  },
  {
   "cell_type": "code",
   "execution_count": 15,
   "metadata": {},
   "outputs": [
    {
     "data": {
      "text/plain": [
       "(115, 6)"
      ]
     },
     "execution_count": 15,
     "metadata": {},
     "output_type": "execute_result"
    }
   ],
   "source": [
    "#one more filtering criteria:  no missing values.  The last_event column is a datetime object,\n",
    "#and if there were any groups with no past events, this column will be a NaN (missing value).\n",
    "df.dropna(axis = 0, inplace = True)\n",
    "df.reset_index(inplace=True, drop=True)\n",
    "df.shape"
   ]
  },
  {
   "cell_type": "code",
   "execution_count": 16,
   "metadata": {},
   "outputs": [
    {
     "data": {
      "text/html": [
       "<div>\n",
       "<style>\n",
       "    .dataframe thead tr:only-child th {\n",
       "        text-align: right;\n",
       "    }\n",
       "\n",
       "    .dataframe thead th {\n",
       "        text-align: left;\n",
       "    }\n",
       "\n",
       "    .dataframe tbody tr th {\n",
       "        vertical-align: top;\n",
       "    }\n",
       "</style>\n",
       "<table border=\"1\" class=\"dataframe\">\n",
       "  <thead>\n",
       "    <tr style=\"text-align: right;\">\n",
       "      <th></th>\n",
       "      <th>name</th>\n",
       "      <th>created</th>\n",
       "      <th>members</th>\n",
       "      <th>past_event_count</th>\n",
       "      <th>last_event</th>\n",
       "      <th>last_rsvp</th>\n",
       "    </tr>\n",
       "  </thead>\n",
       "  <tbody>\n",
       "    <tr>\n",
       "      <th>0</th>\n",
       "      <td>Blockchain Developers and Enthusiasts United</td>\n",
       "      <td>2017-10-28 19:35:41</td>\n",
       "      <td>213</td>\n",
       "      <td>6</td>\n",
       "      <td>2018-01-18 18:30:00</td>\n",
       "      <td>67</td>\n",
       "    </tr>\n",
       "    <tr>\n",
       "      <th>1</th>\n",
       "      <td>WordPress Pittsburgh</td>\n",
       "      <td>2014-08-06 08:00:37</td>\n",
       "      <td>819</td>\n",
       "      <td>57</td>\n",
       "      <td>2018-01-09 07:30:00</td>\n",
       "      <td>17</td>\n",
       "    </tr>\n",
       "    <tr>\n",
       "      <th>2</th>\n",
       "      <td>Pittsburgh Code &amp; Supply</td>\n",
       "      <td>2014-03-20 09:40:46</td>\n",
       "      <td>3557</td>\n",
       "      <td>313</td>\n",
       "      <td>2018-01-05 11:00:00</td>\n",
       "      <td>8</td>\n",
       "    </tr>\n",
       "    <tr>\n",
       "      <th>3</th>\n",
       "      <td>Girl Develop It Pittsburgh</td>\n",
       "      <td>2012-06-13 20:49:34</td>\n",
       "      <td>2051</td>\n",
       "      <td>96</td>\n",
       "      <td>2018-01-18 19:00:00</td>\n",
       "      <td>37</td>\n",
       "    </tr>\n",
       "    <tr>\n",
       "      <th>4</th>\n",
       "      <td>PGH Data Science</td>\n",
       "      <td>2017-02-02 15:37:53</td>\n",
       "      <td>753</td>\n",
       "      <td>9</td>\n",
       "      <td>2018-01-10 16:00:00</td>\n",
       "      <td>72</td>\n",
       "    </tr>\n",
       "  </tbody>\n",
       "</table>\n",
       "</div>"
      ],
      "text/plain": [
       "                                           name             created  members  \\\n",
       "0  Blockchain Developers and Enthusiasts United 2017-10-28 19:35:41      213   \n",
       "1                          WordPress Pittsburgh 2014-08-06 08:00:37      819   \n",
       "2                      Pittsburgh Code & Supply 2014-03-20 09:40:46     3557   \n",
       "3                    Girl Develop It Pittsburgh 2012-06-13 20:49:34     2051   \n",
       "4                              PGH Data Science 2017-02-02 15:37:53      753   \n",
       "\n",
       "   past_event_count          last_event  last_rsvp  \n",
       "0                 6 2018-01-18 18:30:00         67  \n",
       "1                57 2018-01-09 07:30:00         17  \n",
       "2               313 2018-01-05 11:00:00          8  \n",
       "3                96 2018-01-18 19:00:00         37  \n",
       "4                 9 2018-01-10 16:00:00         72  "
      ]
     },
     "execution_count": 16,
     "metadata": {},
     "output_type": "execute_result"
    }
   ],
   "source": [
    "#lastly, let's convert our datetime columns for later use. (We need to tell pandas these are dates)\n",
    "df[\"created\"] = pd.to_datetime(df[\"created\"])\n",
    "df[\"last_event\"] = pd.to_datetime(df[\"last_event\"])\n",
    "df.head()"
   ]
  },
  {
   "cell_type": "markdown",
   "metadata": {},
   "source": [
    "## So, let's begin with the most obvious metric: membership.  \n",
    "\n",
    "## The more members, the more thriving the group, right?  Let's take a look:"
   ]
  },
  {
   "cell_type": "code",
   "execution_count": 17,
   "metadata": {},
   "outputs": [
    {
     "data": {
      "text/html": [
       "<div>\n",
       "<style>\n",
       "    .dataframe thead tr:only-child th {\n",
       "        text-align: right;\n",
       "    }\n",
       "\n",
       "    .dataframe thead th {\n",
       "        text-align: left;\n",
       "    }\n",
       "\n",
       "    .dataframe tbody tr th {\n",
       "        vertical-align: top;\n",
       "    }\n",
       "</style>\n",
       "<table border=\"1\" class=\"dataframe\">\n",
       "  <thead>\n",
       "    <tr style=\"text-align: right;\">\n",
       "      <th></th>\n",
       "      <th>name</th>\n",
       "      <th>created</th>\n",
       "      <th>members</th>\n",
       "      <th>past_event_count</th>\n",
       "      <th>last_event</th>\n",
       "      <th>last_rsvp</th>\n",
       "    </tr>\n",
       "  </thead>\n",
       "  <tbody>\n",
       "    <tr>\n",
       "      <th>0</th>\n",
       "      <td>Pittsburgh Code &amp; Supply</td>\n",
       "      <td>2014-03-20 09:40:46</td>\n",
       "      <td>3557</td>\n",
       "      <td>313</td>\n",
       "      <td>2018-01-05 11:00:00</td>\n",
       "      <td>8</td>\n",
       "    </tr>\n",
       "    <tr>\n",
       "      <th>1</th>\n",
       "      <td>Girl Develop It Pittsburgh</td>\n",
       "      <td>2012-06-13 20:49:34</td>\n",
       "      <td>2051</td>\n",
       "      <td>96</td>\n",
       "      <td>2018-01-18 19:00:00</td>\n",
       "      <td>37</td>\n",
       "    </tr>\n",
       "    <tr>\n",
       "      <th>2</th>\n",
       "      <td>Pgh Tech Meetup</td>\n",
       "      <td>2010-05-04 20:35:19</td>\n",
       "      <td>1916</td>\n",
       "      <td>139</td>\n",
       "      <td>2017-11-18 09:30:00</td>\n",
       "      <td>1</td>\n",
       "    </tr>\n",
       "    <tr>\n",
       "      <th>3</th>\n",
       "      <td>HackPGH</td>\n",
       "      <td>2015-05-27 07:38:41</td>\n",
       "      <td>1617</td>\n",
       "      <td>79</td>\n",
       "      <td>2018-01-17 19:00:00</td>\n",
       "      <td>17</td>\n",
       "    </tr>\n",
       "    <tr>\n",
       "      <th>4</th>\n",
       "      <td>Pittsburgh Agile (@PittAgile | #PittAgile)</td>\n",
       "      <td>2011-03-02 11:31:00</td>\n",
       "      <td>1457</td>\n",
       "      <td>71</td>\n",
       "      <td>2017-11-15 17:30:00</td>\n",
       "      <td>31</td>\n",
       "    </tr>\n",
       "  </tbody>\n",
       "</table>\n",
       "</div>"
      ],
      "text/plain": [
       "                                         name             created  members  \\\n",
       "0                    Pittsburgh Code & Supply 2014-03-20 09:40:46     3557   \n",
       "1                  Girl Develop It Pittsburgh 2012-06-13 20:49:34     2051   \n",
       "2                             Pgh Tech Meetup 2010-05-04 20:35:19     1916   \n",
       "3                                     HackPGH 2015-05-27 07:38:41     1617   \n",
       "4  Pittsburgh Agile (@PittAgile | #PittAgile) 2011-03-02 11:31:00     1457   \n",
       "\n",
       "   past_event_count          last_event  last_rsvp  \n",
       "0               313 2018-01-05 11:00:00          8  \n",
       "1                96 2018-01-18 19:00:00         37  \n",
       "2               139 2017-11-18 09:30:00          1  \n",
       "3                79 2018-01-17 19:00:00         17  \n",
       "4                71 2017-11-15 17:30:00         31  "
      ]
     },
     "execution_count": 17,
     "metadata": {},
     "output_type": "execute_result"
    }
   ],
   "source": [
    "top_membership = df.sort_values(\"members\", ascending=False).reset_index(drop=True)\n",
    "top_membership.head(5)"
   ]
  },
  {
   "cell_type": "markdown",
   "metadata": {},
   "source": [
    "### Wow, not bad!  The top groups range from roughly 1.5 to 3.5 k members each!\n",
    "\n",
    "### But wait a moment...take a look at those event rsvp counts...\n",
    "\n",
    "### A thriving group should also have lots of rsvps, right?  Hmm..."
   ]
  },
  {
   "cell_type": "markdown",
   "metadata": {},
   "source": [
    "## Ok, let's sort the groups by last rsvp count:"
   ]
  },
  {
   "cell_type": "code",
   "execution_count": 18,
   "metadata": {},
   "outputs": [
    {
     "data": {
      "text/html": [
       "<div>\n",
       "<style>\n",
       "    .dataframe thead tr:only-child th {\n",
       "        text-align: right;\n",
       "    }\n",
       "\n",
       "    .dataframe thead th {\n",
       "        text-align: left;\n",
       "    }\n",
       "\n",
       "    .dataframe tbody tr th {\n",
       "        vertical-align: top;\n",
       "    }\n",
       "</style>\n",
       "<table border=\"1\" class=\"dataframe\">\n",
       "  <thead>\n",
       "    <tr style=\"text-align: right;\">\n",
       "      <th></th>\n",
       "      <th>name</th>\n",
       "      <th>created</th>\n",
       "      <th>members</th>\n",
       "      <th>past_event_count</th>\n",
       "      <th>last_event</th>\n",
       "      <th>last_rsvp</th>\n",
       "    </tr>\n",
       "  </thead>\n",
       "  <tbody>\n",
       "    <tr>\n",
       "      <th>0</th>\n",
       "      <td>PGH Data Science</td>\n",
       "      <td>2017-02-02 15:37:53</td>\n",
       "      <td>753</td>\n",
       "      <td>9</td>\n",
       "      <td>2018-01-10 16:00:00</td>\n",
       "      <td>72</td>\n",
       "    </tr>\n",
       "    <tr>\n",
       "      <th>1</th>\n",
       "      <td>Blockchain Developers and Enthusiasts United</td>\n",
       "      <td>2017-10-28 19:35:41</td>\n",
       "      <td>213</td>\n",
       "      <td>6</td>\n",
       "      <td>2018-01-18 18:30:00</td>\n",
       "      <td>67</td>\n",
       "    </tr>\n",
       "    <tr>\n",
       "      <th>2</th>\n",
       "      <td>Steel City Information Security</td>\n",
       "      <td>2012-10-30 12:59:15</td>\n",
       "      <td>788</td>\n",
       "      <td>57</td>\n",
       "      <td>2018-01-10 18:00:00</td>\n",
       "      <td>50</td>\n",
       "    </tr>\n",
       "    <tr>\n",
       "      <th>3</th>\n",
       "      <td>Google Developer Group (GDG) Pittsburgh</td>\n",
       "      <td>2017-01-24 09:29:22</td>\n",
       "      <td>377</td>\n",
       "      <td>3</td>\n",
       "      <td>2017-09-30 10:00:00</td>\n",
       "      <td>50</td>\n",
       "    </tr>\n",
       "    <tr>\n",
       "      <th>4</th>\n",
       "      <td>Pittsburgh Big Data Meetups</td>\n",
       "      <td>2015-03-04 09:55:47</td>\n",
       "      <td>603</td>\n",
       "      <td>10</td>\n",
       "      <td>2016-03-22 19:00:00</td>\n",
       "      <td>49</td>\n",
       "    </tr>\n",
       "  </tbody>\n",
       "</table>\n",
       "</div>"
      ],
      "text/plain": [
       "                                           name             created  members  \\\n",
       "0                              PGH Data Science 2017-02-02 15:37:53      753   \n",
       "1  Blockchain Developers and Enthusiasts United 2017-10-28 19:35:41      213   \n",
       "2               Steel City Information Security 2012-10-30 12:59:15      788   \n",
       "3       Google Developer Group (GDG) Pittsburgh 2017-01-24 09:29:22      377   \n",
       "4                   Pittsburgh Big Data Meetups 2015-03-04 09:55:47      603   \n",
       "\n",
       "   past_event_count          last_event  last_rsvp  \n",
       "0                 9 2018-01-10 16:00:00         72  \n",
       "1                 6 2018-01-18 18:30:00         67  \n",
       "2                57 2018-01-10 18:00:00         50  \n",
       "3                 3 2017-09-30 10:00:00         50  \n",
       "4                10 2016-03-22 19:00:00         49  "
      ]
     },
     "execution_count": 18,
     "metadata": {},
     "output_type": "execute_result"
    }
   ],
   "source": [
    "top_rsvp = df.sort_values(\"last_rsvp\", ascending=False).reset_index(drop=True)\n",
    "top_rsvp.head(5)"
   ]
  },
  {
   "cell_type": "markdown",
   "metadata": {},
   "source": [
    "## PGH Data Science tops the ranking at 72!  \n",
    "(As it so happens, I was at that event, and we did not have 72 people.  I would estimate it was probably more like 40.  Still pretty good!)\n",
    "\n",
    "## RSVP count does seem like an important metric for prominence.\n",
    "\n",
    "Yet, check out the Google Developer Group in slot 2.  It has only had **3 events in the past year!**\n",
    "\n",
    "## Why don't we rank groups by how active they have been?\n"
   ]
  },
  {
   "cell_type": "markdown",
   "metadata": {},
   "source": [
    "One way to do this would be to see ***which groups have had the most events.***  However, this would **bias our results towards groups that have been around longer.** \n",
    "\n",
    "On the other hand, if we ***rank the groups by how recent their most recent event was***, this might not tell us how frequent the groups **USUALLY** have events.\n",
    "\n",
    "## A good solution is therefore to find the average wait time between events.  \n",
    "We can calculate this by dividing the age of the group by the number of events it has had."
   ]
  },
  {
   "cell_type": "code",
   "execution_count": 19,
   "metadata": {
    "collapsed": true
   },
   "outputs": [],
   "source": [
    "# We can create a new column with a measure of how frequently the group hosts events.\n",
    "\n",
    "#we won't be needing the last event info now\n",
    "df.drop([\"last_event\"], axis = 1, inplace=True)\n",
    "\n",
    "query_date = dt.date(2018,1,23) #this is when this particular dataset was generated, so we will use it to calculate group age\n",
    "\n",
    "df[\"created\"] = [d.date() for d in df[\"created\"]] #we only need the date from the original column (ignore time)\n",
    "age = query_date - df[\"created\"] #find the age in days by subtracting creation date from the date the dataset was generated\n",
    "df[\"event_freq\"] = age.dt.days / df[\"past_event_count\"].astype(float) #needs to be float for division"
   ]
  },
  {
   "cell_type": "code",
   "execution_count": 20,
   "metadata": {},
   "outputs": [
    {
     "data": {
      "text/html": [
       "<div>\n",
       "<style>\n",
       "    .dataframe thead tr:only-child th {\n",
       "        text-align: right;\n",
       "    }\n",
       "\n",
       "    .dataframe thead th {\n",
       "        text-align: left;\n",
       "    }\n",
       "\n",
       "    .dataframe tbody tr th {\n",
       "        vertical-align: top;\n",
       "    }\n",
       "</style>\n",
       "<table border=\"1\" class=\"dataframe\">\n",
       "  <thead>\n",
       "    <tr style=\"text-align: right;\">\n",
       "      <th></th>\n",
       "      <th>name</th>\n",
       "      <th>created</th>\n",
       "      <th>members</th>\n",
       "      <th>past_event_count</th>\n",
       "      <th>last_rsvp</th>\n",
       "      <th>event_freq</th>\n",
       "    </tr>\n",
       "  </thead>\n",
       "  <tbody>\n",
       "    <tr>\n",
       "      <th>0</th>\n",
       "      <td>Pittsburgh Code &amp; Supply</td>\n",
       "      <td>2014-03-20</td>\n",
       "      <td>3557</td>\n",
       "      <td>313</td>\n",
       "      <td>8</td>\n",
       "      <td>4.488818</td>\n",
       "    </tr>\n",
       "    <tr>\n",
       "      <th>1</th>\n",
       "      <td>TechShop Pittsburgh</td>\n",
       "      <td>2013-03-27</td>\n",
       "      <td>663</td>\n",
       "      <td>251</td>\n",
       "      <td>0</td>\n",
       "      <td>7.023904</td>\n",
       "    </tr>\n",
       "    <tr>\n",
       "      <th>2</th>\n",
       "      <td>Pittsburgh Rust Coffee</td>\n",
       "      <td>2016-08-24</td>\n",
       "      <td>219</td>\n",
       "      <td>73</td>\n",
       "      <td>7</td>\n",
       "      <td>7.082192</td>\n",
       "    </tr>\n",
       "    <tr>\n",
       "      <th>3</th>\n",
       "      <td>Next Gen Native Hadoop Big Data Apex Users Gro...</td>\n",
       "      <td>2016-07-06</td>\n",
       "      <td>135</td>\n",
       "      <td>75</td>\n",
       "      <td>3</td>\n",
       "      <td>7.546667</td>\n",
       "    </tr>\n",
       "    <tr>\n",
       "      <th>4</th>\n",
       "      <td>Big Data (Next Gen Hadoop) Ingest &amp; Transform,...</td>\n",
       "      <td>2016-07-05</td>\n",
       "      <td>321</td>\n",
       "      <td>74</td>\n",
       "      <td>6</td>\n",
       "      <td>7.662162</td>\n",
       "    </tr>\n",
       "  </tbody>\n",
       "</table>\n",
       "</div>"
      ],
      "text/plain": [
       "                                                name     created  members  \\\n",
       "0                           Pittsburgh Code & Supply  2014-03-20     3557   \n",
       "1                                TechShop Pittsburgh  2013-03-27      663   \n",
       "2                             Pittsburgh Rust Coffee  2016-08-24      219   \n",
       "3  Next Gen Native Hadoop Big Data Apex Users Gro...  2016-07-06      135   \n",
       "4  Big Data (Next Gen Hadoop) Ingest & Transform,...  2016-07-05      321   \n",
       "\n",
       "   past_event_count  last_rsvp  event_freq  \n",
       "0               313          8    4.488818  \n",
       "1               251          0    7.023904  \n",
       "2                73          7    7.082192  \n",
       "3                75          3    7.546667  \n",
       "4                74          6    7.662162  "
      ]
     },
     "execution_count": 20,
     "metadata": {},
     "output_type": "execute_result"
    }
   ],
   "source": [
    "most_active = df.sort_values(\"event_freq\").reset_index(drop=True)\n",
    "most_active.head(5)"
   ]
  },
  {
   "cell_type": "markdown",
   "metadata": {},
   "source": [
    "## Looks like the top groups hold events on a weekly basis\n",
    "\n",
    "## For the 2nd time now Pittsburgh Code & Supply takes a top slot!"
   ]
  },
  {
   "cell_type": "markdown",
   "metadata": {},
   "source": [
    "# We now have 3 criteria to evaluate and rank the tech groups:\n",
    "- total membership\n",
    "- last rsvp count\n",
    "- event frequency\n",
    "\n",
    "## Let's convert the scores for the criteria into percentiles and then average them for our final ranking!"
   ]
  },
  {
   "cell_type": "code",
   "execution_count": 21,
   "metadata": {},
   "outputs": [
    {
     "name": "stderr",
     "output_type": "stream",
     "text": [
      "/Users/andrewgraves/anaconda3/lib/python3.6/site-packages/ipykernel_launcher.py:24: SettingWithCopyWarning: \n",
      "A value is trying to be set on a copy of a slice from a DataFrame.\n",
      "Try using .loc[row_indexer,col_indexer] = value instead\n",
      "\n",
      "See the caveats in the documentation: http://pandas.pydata.org/pandas-docs/stable/indexing.html#indexing-view-versus-copy\n"
     ]
    },
    {
     "data": {
      "text/html": [
       "<div>\n",
       "<style>\n",
       "    .dataframe thead tr:only-child th {\n",
       "        text-align: right;\n",
       "    }\n",
       "\n",
       "    .dataframe thead th {\n",
       "        text-align: left;\n",
       "    }\n",
       "\n",
       "    .dataframe tbody tr th {\n",
       "        vertical-align: top;\n",
       "    }\n",
       "</style>\n",
       "<table border=\"1\" class=\"dataframe\">\n",
       "  <thead>\n",
       "    <tr style=\"text-align: right;\">\n",
       "      <th></th>\n",
       "      <th>name</th>\n",
       "      <th>membership_score</th>\n",
       "      <th>rsvp_score</th>\n",
       "      <th>freq_score</th>\n",
       "      <th>FINAL SCORE</th>\n",
       "    </tr>\n",
       "  </thead>\n",
       "  <tbody>\n",
       "    <tr>\n",
       "      <th>1</th>\n",
       "      <td>Girl Develop It Pittsburgh</td>\n",
       "      <td>99.130435</td>\n",
       "      <td>93.478261</td>\n",
       "      <td>87.826087</td>\n",
       "      <td>93.478261</td>\n",
       "    </tr>\n",
       "    <tr>\n",
       "      <th>2</th>\n",
       "      <td>Steel City Information Security</td>\n",
       "      <td>90.434783</td>\n",
       "      <td>97.826087</td>\n",
       "      <td>76.521739</td>\n",
       "      <td>88.260870</td>\n",
       "    </tr>\n",
       "    <tr>\n",
       "      <th>3</th>\n",
       "      <td>PGH Data Science</td>\n",
       "      <td>88.695652</td>\n",
       "      <td>100.000000</td>\n",
       "      <td>71.304348</td>\n",
       "      <td>86.666667</td>\n",
       "    </tr>\n",
       "    <tr>\n",
       "      <th>4</th>\n",
       "      <td>Pittsburgh Agile (@PittAgile | #PittAgile)</td>\n",
       "      <td>96.521739</td>\n",
       "      <td>87.391304</td>\n",
       "      <td>74.782609</td>\n",
       "      <td>86.231884</td>\n",
       "    </tr>\n",
       "    <tr>\n",
       "      <th>5</th>\n",
       "      <td>HackPGH</td>\n",
       "      <td>97.391304</td>\n",
       "      <td>65.652174</td>\n",
       "      <td>93.913043</td>\n",
       "      <td>85.652174</td>\n",
       "    </tr>\n",
       "    <tr>\n",
       "      <th>6</th>\n",
       "      <td>Code for Pittsburgh, our Region's Code for Ame...</td>\n",
       "      <td>86.086957</td>\n",
       "      <td>68.260870</td>\n",
       "      <td>94.782609</td>\n",
       "      <td>83.043478</td>\n",
       "    </tr>\n",
       "    <tr>\n",
       "      <th>7</th>\n",
       "      <td>WordPress Pittsburgh</td>\n",
       "      <td>92.173913</td>\n",
       "      <td>65.652174</td>\n",
       "      <td>86.956522</td>\n",
       "      <td>81.594203</td>\n",
       "    </tr>\n",
       "    <tr>\n",
       "      <th>8</th>\n",
       "      <td>Blockchain Developers and Enthusiasts United</td>\n",
       "      <td>48.260870</td>\n",
       "      <td>99.130435</td>\n",
       "      <td>93.043478</td>\n",
       "      <td>80.144928</td>\n",
       "    </tr>\n",
       "    <tr>\n",
       "      <th>9</th>\n",
       "      <td>Pittsburgh Code &amp; Supply</td>\n",
       "      <td>100.000000</td>\n",
       "      <td>40.869565</td>\n",
       "      <td>99.130435</td>\n",
       "      <td>80.000000</td>\n",
       "    </tr>\n",
       "    <tr>\n",
       "      <th>10</th>\n",
       "      <td>Pittsburgh .NET User Group (PGHDOTNET)</td>\n",
       "      <td>93.043478</td>\n",
       "      <td>58.260870</td>\n",
       "      <td>86.086957</td>\n",
       "      <td>79.130435</td>\n",
       "    </tr>\n",
       "  </tbody>\n",
       "</table>\n",
       "</div>"
      ],
      "text/plain": [
       "                                                 name  membership_score  \\\n",
       "1                          Girl Develop It Pittsburgh         99.130435   \n",
       "2                     Steel City Information Security         90.434783   \n",
       "3                                    PGH Data Science         88.695652   \n",
       "4          Pittsburgh Agile (@PittAgile | #PittAgile)         96.521739   \n",
       "5                                             HackPGH         97.391304   \n",
       "6   Code for Pittsburgh, our Region's Code for Ame...         86.086957   \n",
       "7                                WordPress Pittsburgh         92.173913   \n",
       "8        Blockchain Developers and Enthusiasts United         48.260870   \n",
       "9                            Pittsburgh Code & Supply        100.000000   \n",
       "10             Pittsburgh .NET User Group (PGHDOTNET)         93.043478   \n",
       "\n",
       "    rsvp_score  freq_score  FINAL SCORE  \n",
       "1    93.478261   87.826087    93.478261  \n",
       "2    97.826087   76.521739    88.260870  \n",
       "3   100.000000   71.304348    86.666667  \n",
       "4    87.391304   74.782609    86.231884  \n",
       "5    65.652174   93.913043    85.652174  \n",
       "6    68.260870   94.782609    83.043478  \n",
       "7    65.652174   86.956522    81.594203  \n",
       "8    99.130435   93.043478    80.144928  \n",
       "9    40.869565   99.130435    80.000000  \n",
       "10   58.260870   86.086957    79.130435  "
      ]
     },
     "execution_count": 21,
     "metadata": {},
     "output_type": "execute_result"
    }
   ],
   "source": [
    "from scipy.stats import percentileofscore\n",
    "\n",
    "#first we need to create sorted arrays of the column data\n",
    "sorted_membership = sorted(most_active[\"members\"])\n",
    "sorted_rsvp = sorted(most_active[\"last_rsvp\"])\n",
    "sorted_freq = sorted(most_active[\"event_freq\"])\n",
    "\n",
    "#now we can use the percentile function on the columns and calculate our scores\n",
    "most_active[\"membership_score\"] = most_active[\"members\"].apply(lambda x: percentileofscore(sorted_membership, x))\n",
    "most_active[\"rsvp_score\"] = most_active[\"last_rsvp\"].apply(lambda x: percentileofscore(sorted_rsvp, x))\n",
    "\n",
    "#When it comes to frequency, smaller is better, so we subtract the percentile from 100 to reward groups with more frequent events!\n",
    "most_active[\"freq_score\"] = 100 - (most_active[\"event_freq\"].apply(lambda x: percentileofscore(sorted_freq, x)))\n",
    "\n",
    "#average the 3 scores for our final score and sort the dataframe on this final score\n",
    "most_active[\"FINAL SCORE\"] = most_active[[\"membership_score\",\"rsvp_score\",\"freq_score\"]].mean(axis=1)\n",
    "most_active.sort_values(\"FINAL SCORE\", inplace = True, ascending = False)\n",
    "most_active.reset_index(drop=True, inplace = True)\n",
    "\n",
    "#let's clean up the output with only the scores\n",
    "final_df = most_active[[\"name\",\"membership_score\",\"rsvp_score\",\"freq_score\",\"FINAL SCORE\"]]\n",
    "\n",
    "#since we are creating ranks, lets set the index starting with the number 1 instead of zero\n",
    "final_df[\"Rank\"] = [i for i in range(1,len(final_df) + 1)]\n",
    "final_df = final_df.set_index(\"Rank\", drop=True)\n",
    "del final_df.index.name #don't display the name \"rank\" above the numbers\n",
    "final_df.head(10)"
   ]
  },
  {
   "cell_type": "markdown",
   "metadata": {
    "collapsed": true
   },
   "source": [
    "# Here are our top ten most prominent tech groups in Pittsburgh!\n",
    "\n",
    "### [Take it further]: should we weight any of the categories more heavily than the others or keep them all equal when we calculate the final score?"
   ]
  },
  {
   "cell_type": "code",
   "execution_count": null,
   "metadata": {
    "collapsed": true
   },
   "outputs": [],
   "source": []
  }
 ],
 "metadata": {
  "kernelspec": {
   "display_name": "Python 3",
   "language": "python",
   "name": "python3"
  },
  "language_info": {
   "codemirror_mode": {
    "name": "ipython",
    "version": 3
   },
   "file_extension": ".py",
   "mimetype": "text/x-python",
   "name": "python",
   "nbconvert_exporter": "python",
   "pygments_lexer": "ipython3",
   "version": "3.6.3"
  }
 },
 "nbformat": 4,
 "nbformat_minor": 2
}
