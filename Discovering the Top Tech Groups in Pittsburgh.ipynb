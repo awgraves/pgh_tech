{
 "cells": [
  {
   "cell_type": "markdown",
   "metadata": {},
   "source": [
    "# Which Pittsburgh Tech Groups Are Thriving the Most?"
   ]
  },
  {
   "cell_type": "code",
   "execution_count": 1,
   "metadata": {
    "collapsed": true
   },
   "outputs": [],
   "source": [
    "import pandas as pd\n",
    "import numpy as np\n",
    "import matplotlib.pyplot as plt\n",
    "import seaborn as sns\n",
    "import datetime as dt"
   ]
  },
  {
   "cell_type": "markdown",
   "metadata": {},
   "source": [
    "### First, let's load in the dataset."
   ]
  },
  {
   "cell_type": "code",
   "execution_count": 2,
   "metadata": {},
   "outputs": [
    {
     "data": {
      "text/html": [
       "<div>\n",
       "<style>\n",
       "    .dataframe thead tr:only-child th {\n",
       "        text-align: right;\n",
       "    }\n",
       "\n",
       "    .dataframe thead th {\n",
       "        text-align: left;\n",
       "    }\n",
       "\n",
       "    .dataframe tbody tr th {\n",
       "        vertical-align: top;\n",
       "    }\n",
       "</style>\n",
       "<table border=\"1\" class=\"dataframe\">\n",
       "  <thead>\n",
       "    <tr style=\"text-align: right;\">\n",
       "      <th></th>\n",
       "      <th>name</th>\n",
       "      <th>id</th>\n",
       "      <th>city</th>\n",
       "      <th>lat</th>\n",
       "      <th>lon</th>\n",
       "      <th>category</th>\n",
       "      <th>created</th>\n",
       "      <th>status</th>\n",
       "      <th>members</th>\n",
       "      <th>join_mode</th>\n",
       "      <th>past_event_count</th>\n",
       "      <th>last_event</th>\n",
       "      <th>last_rsvp</th>\n",
       "    </tr>\n",
       "  </thead>\n",
       "  <tbody>\n",
       "    <tr>\n",
       "      <th>0</th>\n",
       "      <td>Free and Almost Free in Pittsburgh</td>\n",
       "      <td>1756412</td>\n",
       "      <td>Pittsburgh</td>\n",
       "      <td>40.47</td>\n",
       "      <td>-79.95</td>\n",
       "      <td>Socializing</td>\n",
       "      <td>2010-12-30 23:15:54</td>\n",
       "      <td>active</td>\n",
       "      <td>17740</td>\n",
       "      <td>open</td>\n",
       "      <td>9864</td>\n",
       "      <td>2018-01-22 19:00:00</td>\n",
       "      <td>1</td>\n",
       "    </tr>\n",
       "    <tr>\n",
       "      <th>1</th>\n",
       "      <td>The Pittsburgh Hiking Meetup Group</td>\n",
       "      <td>513500</td>\n",
       "      <td>Pittsburgh</td>\n",
       "      <td>40.45</td>\n",
       "      <td>-79.99</td>\n",
       "      <td>Outdoors &amp; Adventure</td>\n",
       "      <td>2007-05-29 06:48:49</td>\n",
       "      <td>active</td>\n",
       "      <td>6873</td>\n",
       "      <td>approval</td>\n",
       "      <td>3925</td>\n",
       "      <td>2018-01-23 06:15:00</td>\n",
       "      <td>3</td>\n",
       "    </tr>\n",
       "    <tr>\n",
       "      <th>2</th>\n",
       "      <td>Pittsburgh Singles Over-50 Meetup</td>\n",
       "      <td>21721579</td>\n",
       "      <td>Pittsburgh</td>\n",
       "      <td>40.45</td>\n",
       "      <td>-79.99</td>\n",
       "      <td>Socializing</td>\n",
       "      <td>2016-12-30 22:38:58</td>\n",
       "      <td>active</td>\n",
       "      <td>547</td>\n",
       "      <td>approval</td>\n",
       "      <td>74</td>\n",
       "      <td>2018-01-17 17:45:00</td>\n",
       "      <td>25</td>\n",
       "    </tr>\n",
       "    <tr>\n",
       "      <th>3</th>\n",
       "      <td>The Pittsburgh Cultural Arts Meetup Group</td>\n",
       "      <td>1318900</td>\n",
       "      <td>Pittsburgh</td>\n",
       "      <td>40.44</td>\n",
       "      <td>-79.95</td>\n",
       "      <td>Arts &amp; Culture</td>\n",
       "      <td>2008-11-10 20:40:33</td>\n",
       "      <td>active</td>\n",
       "      <td>6245</td>\n",
       "      <td>open</td>\n",
       "      <td>1237</td>\n",
       "      <td>2018-01-21 16:25:00</td>\n",
       "      <td>4</td>\n",
       "    </tr>\n",
       "    <tr>\n",
       "      <th>4</th>\n",
       "      <td>The Pittsburgh Social Club!</td>\n",
       "      <td>1773927</td>\n",
       "      <td>Pittsburgh</td>\n",
       "      <td>40.47</td>\n",
       "      <td>-79.92</td>\n",
       "      <td>Socializing</td>\n",
       "      <td>2011-01-27 19:15:11</td>\n",
       "      <td>active</td>\n",
       "      <td>5304</td>\n",
       "      <td>open</td>\n",
       "      <td>3595</td>\n",
       "      <td>2018-01-22 19:00:00</td>\n",
       "      <td>6</td>\n",
       "    </tr>\n",
       "  </tbody>\n",
       "</table>\n",
       "</div>"
      ],
      "text/plain": [
       "                                        name        id        city    lat  \\\n",
       "0         Free and Almost Free in Pittsburgh   1756412  Pittsburgh  40.47   \n",
       "1         The Pittsburgh Hiking Meetup Group    513500  Pittsburgh  40.45   \n",
       "2          Pittsburgh Singles Over-50 Meetup  21721579  Pittsburgh  40.45   \n",
       "3  The Pittsburgh Cultural Arts Meetup Group   1318900  Pittsburgh  40.44   \n",
       "4                The Pittsburgh Social Club!   1773927  Pittsburgh  40.47   \n",
       "\n",
       "     lon              category              created  status  members  \\\n",
       "0 -79.95           Socializing  2010-12-30 23:15:54  active    17740   \n",
       "1 -79.99  Outdoors & Adventure  2007-05-29 06:48:49  active     6873   \n",
       "2 -79.99           Socializing  2016-12-30 22:38:58  active      547   \n",
       "3 -79.95        Arts & Culture  2008-11-10 20:40:33  active     6245   \n",
       "4 -79.92           Socializing  2011-01-27 19:15:11  active     5304   \n",
       "\n",
       "  join_mode  past_event_count           last_event  last_rsvp  \n",
       "0      open              9864  2018-01-22 19:00:00          1  \n",
       "1  approval              3925  2018-01-23 06:15:00          3  \n",
       "2  approval                74  2018-01-17 17:45:00         25  \n",
       "3      open              1237  2018-01-21 16:25:00          4  \n",
       "4      open              3595  2018-01-22 19:00:00          6  "
      ]
     },
     "execution_count": 2,
     "metadata": {},
     "output_type": "execute_result"
    }
   ],
   "source": [
    "# The dataset we will be using can be found at my github.\n",
    "# It was obtained via the meetup.com API using a custom python script I created.\n",
    "# If you'd like to generate a more recent dataset on Pittsburgh and/or a different location, \n",
    "# check out https://github.com/awgraves/meetup_api\n",
    "df = pd.read_csv(\"pgh_meetup_groups_Jan_23_2018.csv\")\n",
    "df.head()"
   ]
  },
  {
   "cell_type": "code",
   "execution_count": 3,
   "metadata": {},
   "outputs": [
    {
     "data": {
      "text/plain": [
       "(935, 13)"
      ]
     },
     "execution_count": 3,
     "metadata": {},
     "output_type": "execute_result"
    }
   ],
   "source": [
    "df.shape"
   ]
  },
  {
   "cell_type": "markdown",
   "metadata": {},
   "source": [
    "### Let's only look at Pittsburgh and not the surrounding area:"
   ]
  },
  {
   "cell_type": "code",
   "execution_count": 4,
   "metadata": {},
   "outputs": [
    {
     "data": {
      "text/plain": [
       "(683, 13)"
      ]
     },
     "execution_count": 4,
     "metadata": {},
     "output_type": "execute_result"
    }
   ],
   "source": [
    "df = df[df[\"city\"]==\"Pittsburgh\"]\n",
    "df.reset_index(drop=True, inplace=True)\n",
    "df.shape"
   ]
  },
  {
   "cell_type": "code",
   "execution_count": 5,
   "metadata": {},
   "outputs": [
    {
     "data": {
      "text/plain": [
       "<matplotlib.axes._subplots.AxesSubplot at 0x10868d5f8>"
      ]
     },
     "execution_count": 5,
     "metadata": {},
     "output_type": "execute_result"
    },
    {
     "data": {
      "image/png": "[encoded data removed]",
      "text/plain": [
       "<matplotlib.figure.Figure at 0x10f1c0e80>"
      ]
     },
     "metadata": {},
     "output_type": "display_data"
    }
   ],
   "source": [
    "%matplotlib inline\n",
    "\n",
    "cat_group_counts = df.groupby(\"category\").size().sort_values(ascending=False)[:10]\n",
    "\n",
    "cat_group_counts.plot(kind=\"bar\", title=\"Top 10 Meetup Group Categories\")"
   ]
  },
  {
   "cell_type": "code",
   "execution_count": 6,
   "metadata": {},
   "outputs": [
    {
     "name": "stdout",
     "output_type": "stream",
     "text": [
      "['Tech', 'Career & Business', 'Socializing', 'Health & Wellbeing', 'New Age & Spirituality', 'Sports & Recreation', 'Outdoors & Adventure', 'Language & Ethnic Identity', 'Food & Drink', 'Support']\n"
     ]
    }
   ],
   "source": [
    "print(cat_group_counts.keys().tolist())"
   ]
  },
  {
   "cell_type": "code",
   "execution_count": 12,
   "metadata": {},
   "outputs": [
    {
     "data": {
      "image/png": "[encoded data removed]",
      "text/plain": [
       "<matplotlib.figure.Figure at 0x10f3d96a0>"
      ]
     },
     "metadata": {},
     "output_type": "display_data"
    }
   ],
   "source": [
    "from matplotlib import cm\n",
    "color = cm.PuBu(np.linspace(1, .2, 10))\n",
    "\n",
    "N = 10\n",
    "group_values = cat_group_counts.tolist()\n",
    "group_labels = cat_group_counts.keys().tolist()\n",
    "\n",
    "ind = np.arange(N)  # the x locations for the groups\n",
    "width = 0.65       # the width of the bars\n",
    "\n",
    "fig = plt.figure(figsize=(9,7))\n",
    "ax = fig.add_subplot(1,1,1)\n",
    "fig.set_facecolor(\".99\")\n",
    "\n",
    "#line_widths = [3.0 if i == 1 else 1.0 for i in range(N)]\n",
    "groups = ax.bar(ind, group_values, width, color=color, linewidth=1.0, edgecolor = \"black\")\n",
    "\n",
    "# add some text for labels, title and axes ticks\n",
    "ax.set_ylabel('# of Registered Meetup Groups', size=15)\n",
    "# ax.set_title('Tech Groups Predominate in Pittsburgh', size=20, loc=\"right\", weight=\"bold\")\n",
    "ax.set_xticks(ind)\n",
    "ax.set_xticklabels(group_labels, rotation = 42, ha=\"right\", size = 11)\n",
    "ax.tick_params(left=\"off\")\n",
    "ax.set_yticklabels([])\n",
    "ax.spines[\"right\"].set_visible(False)\n",
    "ax.spines[\"top\"].set_visible(False)\n",
    "ax.spines[\"left\"].set_visible(False)\n",
    "ax.set_facecolor(\".99\")\n",
    "\n",
    "ax.text(1.30,130,\"Tech Groups Are #1 in Pittsburgh\", horizontalalignment='left', size = 20, weight=\"bold\")\n",
    "ax.text(7.0, -45, \"Created by: Andrew Graves\", horizontalalignment=\"left\", size=8)\n",
    "ax.text(7.0, -50, \"Data Source: meetup.com 1/23/18\", horizontalalignment=\"left\", size=8)\n",
    "\n",
    "def autolabel(rects):\n",
    "    \"\"\"\n",
    "    Attach a text label above each bar displaying its height\n",
    "    \"\"\"\n",
    "    for rect in rects:\n",
    "        height = rect.get_height()\n",
    "        ax.text(rect.get_x() + rect.get_width()/2., height + .2,\n",
    "                '%d' % int(height),\n",
    "                ha='center', va='bottom')\n",
    "\n",
    "autolabel(groups)\n",
    "\n",
    "plt.savefig('tech_groups_pgh.jpeg', bbox_inches='tight', edgecolor='black', facecolor=fig.get_facecolor(), frameon=True)\n",
    "plt.show()"
   ]
  },
  {
   "cell_type": "code",
   "execution_count": null,
   "metadata": {
    "collapsed": true
   },
   "outputs": [],
   "source": [
    "#only want tech groups\n",
    "df = df[df[\"category\"]==\"Tech\"].reset_index(drop=True)\n",
    "\n",
    "#our category column is now redundant\n",
    "df.drop([\"category\"], axis = 1, inplace = True)"
   ]
  },
  {
   "cell_type": "code",
   "execution_count": null,
   "metadata": {},
   "outputs": [],
   "source": [
    "df.shape"
   ]
  },
  {
   "cell_type": "code",
   "execution_count": null,
   "metadata": {
    "collapsed": true
   },
   "outputs": [],
   "source": [
    "#get rid of some unnecessary columns\n",
    "df.drop([\"id\",\"city\",\"lat\",\"lon\"], inplace = True, axis = 1)"
   ]
  },
  {
   "cell_type": "code",
   "execution_count": null,
   "metadata": {},
   "outputs": [],
   "source": [
    "df.head()"
   ]
  },
  {
   "cell_type": "code",
   "execution_count": null,
   "metadata": {},
   "outputs": [],
   "source": [
    "# We don't want to join a group that is in a grace period!\n",
    "df.status.value_counts()"
   ]
  },
  {
   "cell_type": "code",
   "execution_count": null,
   "metadata": {},
   "outputs": [],
   "source": [
    "#Take only the active groups\n",
    "df = df[df[\"status\"] == \"active\"]\n",
    "\n",
    "#The status column is now redundant\n",
    "df.drop([\"status\"], axis = 1, inplace = True)\n",
    "df.shape"
   ]
  },
  {
   "cell_type": "code",
   "execution_count": null,
   "metadata": {
    "collapsed": true
   },
   "outputs": [],
   "source": [
    "#we also don't really care about how members join\n",
    "df.drop([\"join_mode\"], axis = 1, inplace = True)"
   ]
  },
  {
   "cell_type": "code",
   "execution_count": null,
   "metadata": {},
   "outputs": [],
   "source": [
    "#one more filtering criteria:  no missing values.  The last_event column is a datetime object,\n",
    "#and if there were any groups with no past events, this column will be a NaN (missing value).\n",
    "df.dropna(axis = 0, inplace = True)\n",
    "df.reset_index(inplace=True, drop=True)\n",
    "df.shape"
   ]
  },
  {
   "cell_type": "code",
   "execution_count": null,
   "metadata": {},
   "outputs": [],
   "source": [
    "#lastly, let's convert our datetime columns for later use\n",
    "df[\"created\"] = pd.to_datetime(df[\"created\"])\n",
    "df[\"last_event\"] = pd.to_datetime(df[\"last_event\"])\n",
    "df.head()"
   ]
  },
  {
   "cell_type": "markdown",
   "metadata": {},
   "source": [
    "## So, let's begin with the most obvious metric: membership.  \n",
    "\n",
    "## The more members, the more thriving the group, right?  Let's take a look:"
   ]
  },
  {
   "cell_type": "code",
   "execution_count": null,
   "metadata": {},
   "outputs": [],
   "source": [
    "top_membership = df.sort_values(\"members\", ascending=False).reset_index(drop=True)\n",
    "top_membership.head(5)"
   ]
  },
  {
   "cell_type": "markdown",
   "metadata": {},
   "source": [
    "### Wow, not bad!  The top groups range from roughly 1.5 to 3.5 k members each!\n",
    "\n",
    "### But wait a moment...take a look at those event rsvp counts...\n",
    "\n",
    "### A thriving group should also have lots of rsvps, right?  Hmm..."
   ]
  },
  {
   "cell_type": "markdown",
   "metadata": {},
   "source": [
    "## Ok, let's sort the groups by last rsvp count:"
   ]
  },
  {
   "cell_type": "code",
   "execution_count": null,
   "metadata": {},
   "outputs": [],
   "source": [
    "top_rsvp = df.sort_values(\"last_rsvp\", ascending=False).reset_index(drop=True)\n",
    "top_rsvp.head(5)"
   ]
  },
  {
   "cell_type": "markdown",
   "metadata": {},
   "source": [
    "## PGH Data Science tops the ranking at 72!  \n",
    "(As it so happens, I was at that event, and we did not have 72 people.  I would estimate it was probably more like 40.  Still pretty good!)\n",
    "\n",
    "## RSVP count does seem like another metric for vitality.\n",
    "\n",
    "Yet, check out the Google Developer Group in slot 2.  It has only had **3 events in the past year!**\n",
    "\n",
    "## Why don't we rank groups by how active they have been?\n"
   ]
  },
  {
   "cell_type": "markdown",
   "metadata": {},
   "source": [
    "One way to do this would be to see ***which groups have had the most events.***  However, this would **bias our results towards groups that have been around longer.** \n",
    "\n",
    "On the other hand, if we ***rank the groups by how recent their most recent event was***, this might not tell us how frequent the groups **USUALLY** have events.\n",
    "\n",
    "## A good solution is therefore to find the average wait time between events.  \n",
    "We can calculate this by dividing the age of the group by the number of events it has had."
   ]
  },
  {
   "cell_type": "code",
   "execution_count": null,
   "metadata": {},
   "outputs": [],
   "source": [
    "# We can create a new column with a measure of how frequently the group hosts events.\n",
    "# One way to do this is to divide the age of the group in days by the number of past events.\n",
    "# This will tell us, on average, how many days go by in between events.\n",
    "\n",
    "#we won't be needing the last event info now\n",
    "df.drop([\"last_event\"], axis = 1, inplace=True)\n",
    "\n",
    "#this is when the dataset was created, so we will use it to calculate group age:\n",
    "query_date = dt.date(2018,1,23) \n",
    "\n",
    "df[\"created\"] = [d.date() for d in df[\"created\"]] #we only need the date from the original column (ignore time)\n",
    "age = query_date - df[\"created\"] #find the age in days\n",
    "df[\"event_freq\"] = age.dt.days / df[\"past_event_count\"].astype(float)"
   ]
  },
  {
   "cell_type": "code",
   "execution_count": null,
   "metadata": {},
   "outputs": [],
   "source": [
    "most_active = df.sort_values(\"event_freq\").reset_index(drop=True)\n",
    "most_active.head(5)"
   ]
  },
  {
   "cell_type": "markdown",
   "metadata": {},
   "source": [
    "## Looks like the top groups hold events on a weekly basis\n",
    "\n",
    "## For the 2nd time now Pittsburgh Code & Supply takes a top slot!"
   ]
  },
  {
   "cell_type": "markdown",
   "metadata": {},
   "source": [
    "# We now have 3 criteria to evaluate and rank the tech groups:\n",
    "- total membership\n",
    "- last rsvp count\n",
    "- event frequency\n",
    "\n",
    "## Let's convert the scores for the criteria into percentiles and then average them for our final ranking!"
   ]
  },
  {
   "cell_type": "code",
   "execution_count": null,
   "metadata": {},
   "outputs": [],
   "source": [
    "from scipy.stats import percentileofscore\n",
    "\n",
    "#first we need to create sorted arrays of the column data\n",
    "sorted_membership = sorted(most_active[\"members\"])\n",
    "sorted_rsvp = sorted(most_active[\"last_rsvp\"])\n",
    "sorted_freq = sorted(most_active[\"event_freq\"])\n",
    "\n",
    "#now we can use the percentile function on the columns and calculate our scores\n",
    "\n",
    "most_active[\"membership_score\"] = most_active[\"members\"].apply(lambda x: percentileofscore(sorted_membership, x))\n",
    "most_active[\"rsvp_score\"] = most_active[\"last_rsvp\"].apply(lambda x: percentileofscore(sorted_rsvp, x))\n",
    "\n",
    "#When it comes to frequency, smaller is better, so we subtract the percentile from 100 to reward groups with more frequent events!\n",
    "most_active[\"freq_score\"] = 100 - (most_active[\"event_freq\"].apply(lambda x: percentileofscore(sorted_freq, x)))\n",
    "\n",
    "#average the 3 scores for our final score and sort the dataframe on this final score\n",
    "most_active[\"FINAL SCORE\"] = most_active[[\"membership_score\",\"rsvp_score\",\"freq_score\"]].mean(axis=1)\n",
    "most_active.sort_values(\"FINAL SCORE\", inplace = True, ascending = False)\n",
    "most_active.reset_index(drop=True, inplace = True)\n",
    "\n",
    "final_df = most_active[[\"name\",\"membership_score\",\"rsvp_score\",\"freq_score\",\"FINAL SCORE\"]]\n",
    "final_df.head(10)"
   ]
  },
  {
   "cell_type": "markdown",
   "metadata": {
    "collapsed": true
   },
   "source": [
    "# Here are our top ten most thriving tech groups in Pittsburgh!\n",
    "\n",
    "### [Take it further]: should we weight any of the categories more heavily than the others or keep them all equal when we calculate the final score?"
   ]
  }
 ],
 "metadata": {
  "kernelspec": {
   "display_name": "Python 3",
   "language": "python",
   "name": "python3"
  },
  "language_info": {
   "codemirror_mode": {
    "name": "ipython",
    "version": 3
   },
   "file_extension": ".py",
   "mimetype": "text/x-python",
   "name": "python",
   "nbconvert_exporter": "python",
   "pygments_lexer": "ipython3",
   "version": "3.6.3"
  }
 },
 "nbformat": 4,
 "nbformat_minor": 2
}
