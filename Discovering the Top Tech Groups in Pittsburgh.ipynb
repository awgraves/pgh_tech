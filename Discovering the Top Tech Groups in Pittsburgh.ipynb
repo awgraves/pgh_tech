{
 "cells": [
  {
   "cell_type": "markdown",
   "metadata": {},
   "source": [
    "# Which Pittsburgh Tech Groups Are The Most Prominent?"
   ]
  },
  {
   "cell_type": "code",
   "execution_count": 1,
   "metadata": {
    "collapsed": true
   },
   "outputs": [],
   "source": [
    "import pandas as pd\n",
    "import numpy as np\n",
    "import matplotlib.pyplot as plt\n",
    "import seaborn as sns\n",
    "import datetime as dt"
   ]
  },
  {
   "cell_type": "markdown",
   "metadata": {},
   "source": [
    "### First, let's load in the dataset."
   ]
  },
  {
   "cell_type": "code",
   "execution_count": 2,
   "metadata": {},
   "outputs": [
    {
     "data": {
      "text/html": [
       "<div>\n",
       "<style>\n",
       "    .dataframe thead tr:only-child th {\n",
       "        text-align: right;\n",
       "    }\n",
       "\n",
       "    .dataframe thead th {\n",
       "        text-align: left;\n",
       "    }\n",
       "\n",
       "    .dataframe tbody tr th {\n",
       "        vertical-align: top;\n",
       "    }\n",
       "</style>\n",
       "<table border=\"1\" class=\"dataframe\">\n",
       "  <thead>\n",
       "    <tr style=\"text-align: right;\">\n",
       "      <th></th>\n",
       "      <th>name</th>\n",
       "      <th>urlname</th>\n",
       "      <th>city</th>\n",
       "      <th>lat</th>\n",
       "      <th>lon</th>\n",
       "      <th>category</th>\n",
       "      <th>created</th>\n",
       "      <th>status</th>\n",
       "      <th>members</th>\n",
       "      <th>join_mode</th>\n",
       "      <th>past_event_count</th>\n",
       "      <th>last_event</th>\n",
       "      <th>last_rsvp</th>\n",
       "    </tr>\n",
       "  </thead>\n",
       "  <tbody>\n",
       "    <tr>\n",
       "      <th>0</th>\n",
       "      <td>Free and Almost Free in Pittsburgh</td>\n",
       "      <td>pittsburgh-free</td>\n",
       "      <td>Pittsburgh</td>\n",
       "      <td>40.47</td>\n",
       "      <td>-79.95</td>\n",
       "      <td>Socializing</td>\n",
       "      <td>2010-12-30 23:15:54</td>\n",
       "      <td>active</td>\n",
       "      <td>17806</td>\n",
       "      <td>open</td>\n",
       "      <td>9885</td>\n",
       "      <td>2018-01-26 21:00:00</td>\n",
       "      <td>2</td>\n",
       "    </tr>\n",
       "    <tr>\n",
       "      <th>1</th>\n",
       "      <td>The Pittsburgh Hiking Meetup Group</td>\n",
       "      <td>pittsburghhikers</td>\n",
       "      <td>Pittsburgh</td>\n",
       "      <td>40.45</td>\n",
       "      <td>-79.99</td>\n",
       "      <td>Outdoors &amp; Adventure</td>\n",
       "      <td>2007-05-29 06:48:49</td>\n",
       "      <td>active</td>\n",
       "      <td>6880</td>\n",
       "      <td>approval</td>\n",
       "      <td>3929</td>\n",
       "      <td>2018-01-26 17:45:00</td>\n",
       "      <td>10</td>\n",
       "    </tr>\n",
       "    <tr>\n",
       "      <th>2</th>\n",
       "      <td>The Pittsburgh Cultural Arts Meetup Group</td>\n",
       "      <td>Art-lovers</td>\n",
       "      <td>Pittsburgh</td>\n",
       "      <td>40.44</td>\n",
       "      <td>-79.95</td>\n",
       "      <td>Arts &amp; Culture</td>\n",
       "      <td>2008-11-10 20:40:33</td>\n",
       "      <td>active</td>\n",
       "      <td>6253</td>\n",
       "      <td>open</td>\n",
       "      <td>1239</td>\n",
       "      <td>2018-01-26 19:00:00</td>\n",
       "      <td>9</td>\n",
       "    </tr>\n",
       "    <tr>\n",
       "      <th>3</th>\n",
       "      <td>Pittsburgh Singles Over-50 Meetup</td>\n",
       "      <td>Pittsburgh-Singles-Meetup</td>\n",
       "      <td>Pittsburgh</td>\n",
       "      <td>40.45</td>\n",
       "      <td>-79.99</td>\n",
       "      <td>Socializing</td>\n",
       "      <td>2016-12-30 22:38:58</td>\n",
       "      <td>active</td>\n",
       "      <td>553</td>\n",
       "      <td>approval</td>\n",
       "      <td>74</td>\n",
       "      <td>2018-01-17 17:45:00</td>\n",
       "      <td>25</td>\n",
       "    </tr>\n",
       "    <tr>\n",
       "      <th>4</th>\n",
       "      <td>The Pittsburgh Social Club!</td>\n",
       "      <td>Pittsburgh-Social-Club</td>\n",
       "      <td>Pittsburgh</td>\n",
       "      <td>40.47</td>\n",
       "      <td>-79.92</td>\n",
       "      <td>Socializing</td>\n",
       "      <td>2011-01-27 19:15:11</td>\n",
       "      <td>active</td>\n",
       "      <td>5319</td>\n",
       "      <td>open</td>\n",
       "      <td>3607</td>\n",
       "      <td>2018-01-26 21:00:00</td>\n",
       "      <td>2</td>\n",
       "    </tr>\n",
       "  </tbody>\n",
       "</table>\n",
       "</div>"
      ],
      "text/plain": [
       "                                        name                    urlname  \\\n",
       "0         Free and Almost Free in Pittsburgh            pittsburgh-free   \n",
       "1         The Pittsburgh Hiking Meetup Group           pittsburghhikers   \n",
       "2  The Pittsburgh Cultural Arts Meetup Group                 Art-lovers   \n",
       "3          Pittsburgh Singles Over-50 Meetup  Pittsburgh-Singles-Meetup   \n",
       "4                The Pittsburgh Social Club!     Pittsburgh-Social-Club   \n",
       "\n",
       "         city    lat    lon              category              created  \\\n",
       "0  Pittsburgh  40.47 -79.95           Socializing  2010-12-30 23:15:54   \n",
       "1  Pittsburgh  40.45 -79.99  Outdoors & Adventure  2007-05-29 06:48:49   \n",
       "2  Pittsburgh  40.44 -79.95        Arts & Culture  2008-11-10 20:40:33   \n",
       "3  Pittsburgh  40.45 -79.99           Socializing  2016-12-30 22:38:58   \n",
       "4  Pittsburgh  40.47 -79.92           Socializing  2011-01-27 19:15:11   \n",
       "\n",
       "   status  members join_mode  past_event_count           last_event  last_rsvp  \n",
       "0  active    17806      open              9885  2018-01-26 21:00:00          2  \n",
       "1  active     6880  approval              3929  2018-01-26 17:45:00         10  \n",
       "2  active     6253      open              1239  2018-01-26 19:00:00          9  \n",
       "3  active      553  approval                74  2018-01-17 17:45:00         25  \n",
       "4  active     5319      open              3607  2018-01-26 21:00:00          2  "
      ]
     },
     "execution_count": 2,
     "metadata": {},
     "output_type": "execute_result"
    }
   ],
   "source": [
    "# The dataset we will be using can be found at my github.\n",
    "# It was obtained via the meetup.com API using a custom python script I created.\n",
    "# If you'd like to generate a more recent dataset on Pittsburgh and/or a different location, \n",
    "# check out https://github.com/awgraves/meetup_api\n",
    "\n",
    "df = pd.read_csv(\"pgh_meetup_groups_Jan_27_2018.csv\")\n",
    "df.head()"
   ]
  },
  {
   "cell_type": "code",
   "execution_count": 3,
   "metadata": {},
   "outputs": [
    {
     "data": {
      "text/plain": [
       "(943, 13)"
      ]
     },
     "execution_count": 3,
     "metadata": {},
     "output_type": "execute_result"
    }
   ],
   "source": [
    "df.shape"
   ]
  },
  {
   "cell_type": "markdown",
   "metadata": {},
   "source": [
    "### The original dataset contains all meetups within a 50 mile radius, but let's only look at Pittsburgh and not the surrounding area:"
   ]
  },
  {
   "cell_type": "code",
   "execution_count": 4,
   "metadata": {},
   "outputs": [
    {
     "data": {
      "text/plain": [
       "(687, 13)"
      ]
     },
     "execution_count": 4,
     "metadata": {},
     "output_type": "execute_result"
    }
   ],
   "source": [
    "df = df[df[\"city\"]==\"Pittsburgh\"]\n",
    "df.reset_index(drop=True, inplace=True)\n",
    "df.shape"
   ]
  },
  {
   "cell_type": "code",
   "execution_count": 5,
   "metadata": {},
   "outputs": [
    {
     "data": {
      "text/plain": [
       "<matplotlib.axes._subplots.AxesSubplot at 0x104302898>"
      ]
     },
     "execution_count": 5,
     "metadata": {},
     "output_type": "execute_result"
    },
    {
     "data": {
      "image/png": "[encoded data removed]",
      "text/plain": [
       "<matplotlib.figure.Figure at 0x104302160>"
      ]
     },
     "metadata": {},
     "output_type": "display_data"
    }
   ],
   "source": [
    "%matplotlib inline\n",
    "\n",
    "#Which categories are most popular?\n",
    "cat_group_counts = df.groupby(\"category\").size().sort_values(ascending=False)[:10]\n",
    "\n",
    "cat_group_counts.plot(kind=\"bar\", title=\"Top 10 Meetup Group Categories\")"
   ]
  },
  {
   "cell_type": "code",
   "execution_count": 6,
   "metadata": {},
   "outputs": [
    {
     "name": "stdout",
     "output_type": "stream",
     "text": [
      "['Tech', 'Career & Business', 'Socializing', 'Health & Wellbeing', 'New Age & Spirituality', 'Sports & Recreation', 'Outdoors & Adventure', 'Language & Ethnic Identity', 'Food & Drink', 'Support']\n"
     ]
    }
   ],
   "source": [
    "print(cat_group_counts.keys().tolist())"
   ]
  },
  {
   "cell_type": "code",
   "execution_count": 7,
   "metadata": {},
   "outputs": [
    {
     "data": {
      "image/png": "[encoded data removed]",
      "text/plain": [
       "<matplotlib.figure.Figure at 0x1a0ba139e8>"
      ]
     },
     "metadata": {},
     "output_type": "display_data"
    }
   ],
   "source": [
    "#Let's make this bar chart nice and pretty\n",
    "from matplotlib import cm\n",
    "color = cm.PuBu(np.linspace(1, .2, 10)) #import the colormap to color the bars\n",
    "\n",
    "N = 10\n",
    "group_values = cat_group_counts.tolist() #number of groups for each in the top 10\n",
    "group_labels = cat_group_counts.keys().tolist() #names of groups in the top 10\n",
    "\n",
    "ind = np.arange(N)  # the x locations for the groups\n",
    "width = 0.65       # the width of the bars\n",
    "\n",
    "#create the figure and axes\n",
    "fig = plt.figure(figsize=(9,7))\n",
    "ax = fig.add_subplot(1,1,1)\n",
    "\n",
    "groups = ax.bar(ind, group_values, width, color=color, linewidth=1.0, edgecolor = \"black\")\n",
    "\n",
    "# add some axis labels and clean up the graph space of unnecessary ink\n",
    "ax.set_ylabel('# of Registered Meetup Groups', size=15)\n",
    "ax.set_xticks(ind)\n",
    "ax.set_xticklabels(group_labels, rotation = 42, ha=\"right\", size = 11)\n",
    "ax.tick_params(left=\"off\")\n",
    "ax.set_yticklabels([])\n",
    "ax.spines[\"right\"].set_visible(False)\n",
    "ax.spines[\"top\"].set_visible(False)\n",
    "ax.spines[\"left\"].set_visible(False)\n",
    "\n",
    "#add text\n",
    "ax.text(1.30,130,\"Tech Groups Are #1 in Pittsburgh\", horizontalalignment='left', size = 20, weight=\"bold\")\n",
    "ax.text(7.0, -45, \"Created by: Andrew Graves\", horizontalalignment=\"left\", size=8)\n",
    "ax.text(7.0, -50, \"Data Source: meetup.com 1/23/18\", horizontalalignment=\"left\", size=8)\n",
    "\n",
    "def autolabel(rects):\n",
    "    \"\"\"\n",
    "    Attach a text label above each bar displaying its height\n",
    "    \"\"\"\n",
    "    for rect in rects:\n",
    "        height = rect.get_height()\n",
    "        ax.text(rect.get_x() + rect.get_width()/2., height + .2,\n",
    "                '%d' % int(height),\n",
    "                ha='center', va='bottom')\n",
    "\n",
    "autolabel(groups)\n",
    "\n",
    "#export the bar chart to a file\n",
    "plt.savefig('tech_groups_pgh.jpeg', edgecolor='black', bbox_inches='tight', facecolor=fig.get_facecolor(), frameon=True)\n",
    "plt.show()"
   ]
  },
  {
   "cell_type": "markdown",
   "metadata": {},
   "source": [
    "# Which of the 135 different tech groups are the most prominent?"
   ]
  },
  {
   "cell_type": "code",
   "execution_count": 8,
   "metadata": {
    "collapsed": true
   },
   "outputs": [],
   "source": [
    "#only want tech groups\n",
    "df = df[df[\"category\"]==\"Tech\"].reset_index(drop=True)\n",
    "\n",
    "#our category column is now redundant\n",
    "df.drop([\"category\"], axis = 1, inplace = True)"
   ]
  },
  {
   "cell_type": "code",
   "execution_count": 9,
   "metadata": {},
   "outputs": [
    {
     "data": {
      "text/plain": [
       "(135, 12)"
      ]
     },
     "execution_count": 9,
     "metadata": {},
     "output_type": "execute_result"
    }
   ],
   "source": [
    "df.shape"
   ]
  },
  {
   "cell_type": "code",
   "execution_count": 10,
   "metadata": {},
   "outputs": [],
   "source": [
    "#get rid of some unnecessary columns for the purpose of our investigation\n",
    "df.drop([\"city\",\"lat\",\"lon\"], inplace = True, axis = 1)"
   ]
  },
  {
   "cell_type": "code",
   "execution_count": 11,
   "metadata": {},
   "outputs": [
    {
     "data": {
      "text/html": [
       "<div>\n",
       "<style>\n",
       "    .dataframe thead tr:only-child th {\n",
       "        text-align: right;\n",
       "    }\n",
       "\n",
       "    .dataframe thead th {\n",
       "        text-align: left;\n",
       "    }\n",
       "\n",
       "    .dataframe tbody tr th {\n",
       "        vertical-align: top;\n",
       "    }\n",
       "</style>\n",
       "<table border=\"1\" class=\"dataframe\">\n",
       "  <thead>\n",
       "    <tr style=\"text-align: right;\">\n",
       "      <th></th>\n",
       "      <th>name</th>\n",
       "      <th>urlname</th>\n",
       "      <th>created</th>\n",
       "      <th>status</th>\n",
       "      <th>members</th>\n",
       "      <th>join_mode</th>\n",
       "      <th>past_event_count</th>\n",
       "      <th>last_event</th>\n",
       "      <th>last_rsvp</th>\n",
       "    </tr>\n",
       "  </thead>\n",
       "  <tbody>\n",
       "    <tr>\n",
       "      <th>0</th>\n",
       "      <td>Blockchain Developers and Enthusiasts United</td>\n",
       "      <td>blockchainpgh</td>\n",
       "      <td>2017-10-28 19:35:41</td>\n",
       "      <td>active</td>\n",
       "      <td>215</td>\n",
       "      <td>open</td>\n",
       "      <td>6</td>\n",
       "      <td>2018-01-18 18:30:00</td>\n",
       "      <td>67</td>\n",
       "    </tr>\n",
       "    <tr>\n",
       "      <th>1</th>\n",
       "      <td>WordPress Pittsburgh</td>\n",
       "      <td>Pittsburgh-WordPress-Developers-Designers</td>\n",
       "      <td>2014-08-06 08:00:37</td>\n",
       "      <td>active</td>\n",
       "      <td>822</td>\n",
       "      <td>open</td>\n",
       "      <td>57</td>\n",
       "      <td>2018-01-09 07:30:00</td>\n",
       "      <td>17</td>\n",
       "    </tr>\n",
       "    <tr>\n",
       "      <th>2</th>\n",
       "      <td>Pittsburgh Code &amp; Supply</td>\n",
       "      <td>Pittsburgh-Code-Supply</td>\n",
       "      <td>2014-03-20 09:40:46</td>\n",
       "      <td>active</td>\n",
       "      <td>3562</td>\n",
       "      <td>open</td>\n",
       "      <td>314</td>\n",
       "      <td>2018-01-24 19:00:00</td>\n",
       "      <td>26</td>\n",
       "    </tr>\n",
       "    <tr>\n",
       "      <th>3</th>\n",
       "      <td>Girl Develop It Pittsburgh</td>\n",
       "      <td>Girl-Develop-It-Pittsburgh</td>\n",
       "      <td>2012-06-13 20:49:34</td>\n",
       "      <td>active</td>\n",
       "      <td>2058</td>\n",
       "      <td>open</td>\n",
       "      <td>96</td>\n",
       "      <td>2018-01-18 19:00:00</td>\n",
       "      <td>37</td>\n",
       "    </tr>\n",
       "    <tr>\n",
       "      <th>4</th>\n",
       "      <td>PGH Data Science</td>\n",
       "      <td>PGH-Data-Science</td>\n",
       "      <td>2017-02-02 15:37:53</td>\n",
       "      <td>active</td>\n",
       "      <td>758</td>\n",
       "      <td>open</td>\n",
       "      <td>9</td>\n",
       "      <td>2018-01-10 16:00:00</td>\n",
       "      <td>72</td>\n",
       "    </tr>\n",
       "  </tbody>\n",
       "</table>\n",
       "</div>"
      ],
      "text/plain": [
       "                                           name  \\\n",
       "0  Blockchain Developers and Enthusiasts United   \n",
       "1                          WordPress Pittsburgh   \n",
       "2                      Pittsburgh Code & Supply   \n",
       "3                    Girl Develop It Pittsburgh   \n",
       "4                              PGH Data Science   \n",
       "\n",
       "                                     urlname              created  status  \\\n",
       "0                              blockchainpgh  2017-10-28 19:35:41  active   \n",
       "1  Pittsburgh-WordPress-Developers-Designers  2014-08-06 08:00:37  active   \n",
       "2                     Pittsburgh-Code-Supply  2014-03-20 09:40:46  active   \n",
       "3                 Girl-Develop-It-Pittsburgh  2012-06-13 20:49:34  active   \n",
       "4                           PGH-Data-Science  2017-02-02 15:37:53  active   \n",
       "\n",
       "   members join_mode  past_event_count           last_event  last_rsvp  \n",
       "0      215      open                 6  2018-01-18 18:30:00         67  \n",
       "1      822      open                57  2018-01-09 07:30:00         17  \n",
       "2     3562      open               314  2018-01-24 19:00:00         26  \n",
       "3     2058      open                96  2018-01-18 19:00:00         37  \n",
       "4      758      open                 9  2018-01-10 16:00:00         72  "
      ]
     },
     "execution_count": 11,
     "metadata": {},
     "output_type": "execute_result"
    }
   ],
   "source": [
    "df.head()"
   ]
  },
  {
   "cell_type": "code",
   "execution_count": 12,
   "metadata": {},
   "outputs": [
    {
     "data": {
      "text/plain": [
       "active    135\n",
       "Name: status, dtype: int64"
      ]
     },
     "execution_count": 12,
     "metadata": {},
     "output_type": "execute_result"
    }
   ],
   "source": [
    "# We don't want to join a group that is in a grace period!\n",
    "df.status.value_counts()"
   ]
  },
  {
   "cell_type": "code",
   "execution_count": 13,
   "metadata": {},
   "outputs": [
    {
     "data": {
      "text/plain": [
       "(135, 8)"
      ]
     },
     "execution_count": 13,
     "metadata": {},
     "output_type": "execute_result"
    }
   ],
   "source": [
    "#Looks like all are active, but just in case you want to load in a new dataset lets be sure we get it right...\n",
    "df = df[df[\"status\"] == \"active\"]\n",
    "\n",
    "#The status column is now redundant\n",
    "df.drop([\"status\"], axis = 1, inplace = True)\n",
    "df.shape"
   ]
  },
  {
   "cell_type": "code",
   "execution_count": 14,
   "metadata": {
    "collapsed": true
   },
   "outputs": [],
   "source": [
    "#we also don't really care about how the members join\n",
    "df.drop([\"join_mode\"], axis = 1, inplace = True)"
   ]
  },
  {
   "cell_type": "code",
   "execution_count": 15,
   "metadata": {},
   "outputs": [
    {
     "data": {
      "text/plain": [
       "(115, 7)"
      ]
     },
     "execution_count": 15,
     "metadata": {},
     "output_type": "execute_result"
    }
   ],
   "source": [
    "#one more filtering criteria:  no missing values.  The last_event column is a datetime object,\n",
    "#and if there were any groups with no past events, this column will be a NaN (missing value).\n",
    "df.dropna(axis = 0, inplace = True)\n",
    "df.reset_index(inplace=True, drop=True)\n",
    "df.shape"
   ]
  },
  {
   "cell_type": "code",
   "execution_count": 16,
   "metadata": {},
   "outputs": [
    {
     "data": {
      "text/html": [
       "<div>\n",
       "<style>\n",
       "    .dataframe thead tr:only-child th {\n",
       "        text-align: right;\n",
       "    }\n",
       "\n",
       "    .dataframe thead th {\n",
       "        text-align: left;\n",
       "    }\n",
       "\n",
       "    .dataframe tbody tr th {\n",
       "        vertical-align: top;\n",
       "    }\n",
       "</style>\n",
       "<table border=\"1\" class=\"dataframe\">\n",
       "  <thead>\n",
       "    <tr style=\"text-align: right;\">\n",
       "      <th></th>\n",
       "      <th>name</th>\n",
       "      <th>urlname</th>\n",
       "      <th>created</th>\n",
       "      <th>members</th>\n",
       "      <th>past_event_count</th>\n",
       "      <th>last_event</th>\n",
       "      <th>last_rsvp</th>\n",
       "    </tr>\n",
       "  </thead>\n",
       "  <tbody>\n",
       "    <tr>\n",
       "      <th>0</th>\n",
       "      <td>Blockchain Developers and Enthusiasts United</td>\n",
       "      <td>blockchainpgh</td>\n",
       "      <td>2017-10-28 19:35:41</td>\n",
       "      <td>215</td>\n",
       "      <td>6</td>\n",
       "      <td>2018-01-18 18:30:00</td>\n",
       "      <td>67</td>\n",
       "    </tr>\n",
       "    <tr>\n",
       "      <th>1</th>\n",
       "      <td>WordPress Pittsburgh</td>\n",
       "      <td>Pittsburgh-WordPress-Developers-Designers</td>\n",
       "      <td>2014-08-06 08:00:37</td>\n",
       "      <td>822</td>\n",
       "      <td>57</td>\n",
       "      <td>2018-01-09 07:30:00</td>\n",
       "      <td>17</td>\n",
       "    </tr>\n",
       "    <tr>\n",
       "      <th>2</th>\n",
       "      <td>Pittsburgh Code &amp; Supply</td>\n",
       "      <td>Pittsburgh-Code-Supply</td>\n",
       "      <td>2014-03-20 09:40:46</td>\n",
       "      <td>3562</td>\n",
       "      <td>314</td>\n",
       "      <td>2018-01-24 19:00:00</td>\n",
       "      <td>26</td>\n",
       "    </tr>\n",
       "    <tr>\n",
       "      <th>3</th>\n",
       "      <td>Girl Develop It Pittsburgh</td>\n",
       "      <td>Girl-Develop-It-Pittsburgh</td>\n",
       "      <td>2012-06-13 20:49:34</td>\n",
       "      <td>2058</td>\n",
       "      <td>96</td>\n",
       "      <td>2018-01-18 19:00:00</td>\n",
       "      <td>37</td>\n",
       "    </tr>\n",
       "    <tr>\n",
       "      <th>4</th>\n",
       "      <td>PGH Data Science</td>\n",
       "      <td>PGH-Data-Science</td>\n",
       "      <td>2017-02-02 15:37:53</td>\n",
       "      <td>758</td>\n",
       "      <td>9</td>\n",
       "      <td>2018-01-10 16:00:00</td>\n",
       "      <td>72</td>\n",
       "    </tr>\n",
       "  </tbody>\n",
       "</table>\n",
       "</div>"
      ],
      "text/plain": [
       "                                           name  \\\n",
       "0  Blockchain Developers and Enthusiasts United   \n",
       "1                          WordPress Pittsburgh   \n",
       "2                      Pittsburgh Code & Supply   \n",
       "3                    Girl Develop It Pittsburgh   \n",
       "4                              PGH Data Science   \n",
       "\n",
       "                                     urlname             created  members  \\\n",
       "0                              blockchainpgh 2017-10-28 19:35:41      215   \n",
       "1  Pittsburgh-WordPress-Developers-Designers 2014-08-06 08:00:37      822   \n",
       "2                     Pittsburgh-Code-Supply 2014-03-20 09:40:46     3562   \n",
       "3                 Girl-Develop-It-Pittsburgh 2012-06-13 20:49:34     2058   \n",
       "4                           PGH-Data-Science 2017-02-02 15:37:53      758   \n",
       "\n",
       "   past_event_count          last_event  last_rsvp  \n",
       "0                 6 2018-01-18 18:30:00         67  \n",
       "1                57 2018-01-09 07:30:00         17  \n",
       "2               314 2018-01-24 19:00:00         26  \n",
       "3                96 2018-01-18 19:00:00         37  \n",
       "4                 9 2018-01-10 16:00:00         72  "
      ]
     },
     "execution_count": 16,
     "metadata": {},
     "output_type": "execute_result"
    }
   ],
   "source": [
    "#lastly, let's convert our datetime columns for later use. (We need to tell pandas these are dates)\n",
    "df[\"created\"] = pd.to_datetime(df[\"created\"])\n",
    "df[\"last_event\"] = pd.to_datetime(df[\"last_event\"])\n",
    "df.head()"
   ]
  },
  {
   "cell_type": "markdown",
   "metadata": {},
   "source": [
    "## So, let's begin with the most obvious metric: membership.  \n",
    "\n",
    "## The more members, the more thriving the group, right?  Let's take a look:"
   ]
  },
  {
   "cell_type": "code",
   "execution_count": 17,
   "metadata": {},
   "outputs": [
    {
     "data": {
      "text/html": [
       "<div>\n",
       "<style>\n",
       "    .dataframe thead tr:only-child th {\n",
       "        text-align: right;\n",
       "    }\n",
       "\n",
       "    .dataframe thead th {\n",
       "        text-align: left;\n",
       "    }\n",
       "\n",
       "    .dataframe tbody tr th {\n",
       "        vertical-align: top;\n",
       "    }\n",
       "</style>\n",
       "<table border=\"1\" class=\"dataframe\">\n",
       "  <thead>\n",
       "    <tr style=\"text-align: right;\">\n",
       "      <th></th>\n",
       "      <th>name</th>\n",
       "      <th>urlname</th>\n",
       "      <th>created</th>\n",
       "      <th>members</th>\n",
       "      <th>past_event_count</th>\n",
       "      <th>last_event</th>\n",
       "      <th>last_rsvp</th>\n",
       "    </tr>\n",
       "  </thead>\n",
       "  <tbody>\n",
       "    <tr>\n",
       "      <th>0</th>\n",
       "      <td>Pittsburgh Code &amp; Supply</td>\n",
       "      <td>Pittsburgh-Code-Supply</td>\n",
       "      <td>2014-03-20 09:40:46</td>\n",
       "      <td>3562</td>\n",
       "      <td>314</td>\n",
       "      <td>2018-01-24 19:00:00</td>\n",
       "      <td>26</td>\n",
       "    </tr>\n",
       "    <tr>\n",
       "      <th>1</th>\n",
       "      <td>Girl Develop It Pittsburgh</td>\n",
       "      <td>Girl-Develop-It-Pittsburgh</td>\n",
       "      <td>2012-06-13 20:49:34</td>\n",
       "      <td>2058</td>\n",
       "      <td>96</td>\n",
       "      <td>2018-01-18 19:00:00</td>\n",
       "      <td>37</td>\n",
       "    </tr>\n",
       "    <tr>\n",
       "      <th>2</th>\n",
       "      <td>Pgh Tech Meetup</td>\n",
       "      <td>Pgh-Tech</td>\n",
       "      <td>2010-05-04 19:35:19</td>\n",
       "      <td>1916</td>\n",
       "      <td>139</td>\n",
       "      <td>2017-11-18 08:30:00</td>\n",
       "      <td>1</td>\n",
       "    </tr>\n",
       "    <tr>\n",
       "      <th>3</th>\n",
       "      <td>HackPGH</td>\n",
       "      <td>HackPGH</td>\n",
       "      <td>2015-05-27 07:38:41</td>\n",
       "      <td>1623</td>\n",
       "      <td>79</td>\n",
       "      <td>2018-01-17 19:00:00</td>\n",
       "      <td>17</td>\n",
       "    </tr>\n",
       "    <tr>\n",
       "      <th>4</th>\n",
       "      <td>Pittsburgh Agile (@PittAgile | #PittAgile)</td>\n",
       "      <td>PittsburghAgile</td>\n",
       "      <td>2011-03-02 11:31:00</td>\n",
       "      <td>1465</td>\n",
       "      <td>72</td>\n",
       "      <td>2018-01-24 18:00:00</td>\n",
       "      <td>27</td>\n",
       "    </tr>\n",
       "  </tbody>\n",
       "</table>\n",
       "</div>"
      ],
      "text/plain": [
       "                                         name                     urlname  \\\n",
       "0                    Pittsburgh Code & Supply      Pittsburgh-Code-Supply   \n",
       "1                  Girl Develop It Pittsburgh  Girl-Develop-It-Pittsburgh   \n",
       "2                             Pgh Tech Meetup                    Pgh-Tech   \n",
       "3                                     HackPGH                     HackPGH   \n",
       "4  Pittsburgh Agile (@PittAgile | #PittAgile)             PittsburghAgile   \n",
       "\n",
       "              created  members  past_event_count          last_event  \\\n",
       "0 2014-03-20 09:40:46     3562               314 2018-01-24 19:00:00   \n",
       "1 2012-06-13 20:49:34     2058                96 2018-01-18 19:00:00   \n",
       "2 2010-05-04 19:35:19     1916               139 2017-11-18 08:30:00   \n",
       "3 2015-05-27 07:38:41     1623                79 2018-01-17 19:00:00   \n",
       "4 2011-03-02 11:31:00     1465                72 2018-01-24 18:00:00   \n",
       "\n",
       "   last_rsvp  \n",
       "0         26  \n",
       "1         37  \n",
       "2          1  \n",
       "3         17  \n",
       "4         27  "
      ]
     },
     "execution_count": 17,
     "metadata": {},
     "output_type": "execute_result"
    }
   ],
   "source": [
    "top_membership = df.sort_values(\"members\", ascending=False).reset_index(drop=True)\n",
    "top_membership.head(5)"
   ]
  },
  {
   "cell_type": "markdown",
   "metadata": {},
   "source": [
    "### Wow, not bad!  The top groups range from roughly 1.5 to 3.5 k members each!\n",
    "\n",
    "### But wait a moment...take a look at those event rsvp counts...\n",
    "\n",
    "### A thriving group should also have lots of rsvps, right?  Hmm..."
   ]
  },
  {
   "cell_type": "markdown",
   "metadata": {},
   "source": [
    "## Ok, let's sort the groups by last rsvp count:"
   ]
  },
  {
   "cell_type": "code",
   "execution_count": 18,
   "metadata": {},
   "outputs": [
    {
     "data": {
      "text/html": [
       "<div>\n",
       "<style>\n",
       "    .dataframe thead tr:only-child th {\n",
       "        text-align: right;\n",
       "    }\n",
       "\n",
       "    .dataframe thead th {\n",
       "        text-align: left;\n",
       "    }\n",
       "\n",
       "    .dataframe tbody tr th {\n",
       "        vertical-align: top;\n",
       "    }\n",
       "</style>\n",
       "<table border=\"1\" class=\"dataframe\">\n",
       "  <thead>\n",
       "    <tr style=\"text-align: right;\">\n",
       "      <th></th>\n",
       "      <th>name</th>\n",
       "      <th>urlname</th>\n",
       "      <th>created</th>\n",
       "      <th>members</th>\n",
       "      <th>past_event_count</th>\n",
       "      <th>last_event</th>\n",
       "      <th>last_rsvp</th>\n",
       "    </tr>\n",
       "  </thead>\n",
       "  <tbody>\n",
       "    <tr>\n",
       "      <th>0</th>\n",
       "      <td>PGH Data Science</td>\n",
       "      <td>PGH-Data-Science</td>\n",
       "      <td>2017-02-02 15:37:53</td>\n",
       "      <td>758</td>\n",
       "      <td>9</td>\n",
       "      <td>2018-01-10 16:00:00</td>\n",
       "      <td>72</td>\n",
       "    </tr>\n",
       "    <tr>\n",
       "      <th>1</th>\n",
       "      <td>Blockchain Developers and Enthusiasts United</td>\n",
       "      <td>blockchainpgh</td>\n",
       "      <td>2017-10-28 19:35:41</td>\n",
       "      <td>215</td>\n",
       "      <td>6</td>\n",
       "      <td>2018-01-18 18:30:00</td>\n",
       "      <td>67</td>\n",
       "    </tr>\n",
       "    <tr>\n",
       "      <th>2</th>\n",
       "      <td>Google Developer Group (GDG) Pittsburgh</td>\n",
       "      <td>gdg-pitt</td>\n",
       "      <td>2017-01-24 09:29:22</td>\n",
       "      <td>377</td>\n",
       "      <td>3</td>\n",
       "      <td>2017-09-30 10:00:00</td>\n",
       "      <td>50</td>\n",
       "    </tr>\n",
       "    <tr>\n",
       "      <th>3</th>\n",
       "      <td>Steel City Information Security</td>\n",
       "      <td>Steel-City-InfoSec</td>\n",
       "      <td>2012-10-30 12:59:15</td>\n",
       "      <td>788</td>\n",
       "      <td>57</td>\n",
       "      <td>2018-01-10 18:00:00</td>\n",
       "      <td>50</td>\n",
       "    </tr>\n",
       "    <tr>\n",
       "      <th>4</th>\n",
       "      <td>Pittsburgh Big Data Meetups</td>\n",
       "      <td>Pittsburgh-Big-Data-Meetups</td>\n",
       "      <td>2015-03-04 09:55:47</td>\n",
       "      <td>603</td>\n",
       "      <td>10</td>\n",
       "      <td>2016-03-22 19:00:00</td>\n",
       "      <td>49</td>\n",
       "    </tr>\n",
       "  </tbody>\n",
       "</table>\n",
       "</div>"
      ],
      "text/plain": [
       "                                           name                      urlname  \\\n",
       "0                              PGH Data Science             PGH-Data-Science   \n",
       "1  Blockchain Developers and Enthusiasts United                blockchainpgh   \n",
       "2       Google Developer Group (GDG) Pittsburgh                     gdg-pitt   \n",
       "3               Steel City Information Security           Steel-City-InfoSec   \n",
       "4                   Pittsburgh Big Data Meetups  Pittsburgh-Big-Data-Meetups   \n",
       "\n",
       "              created  members  past_event_count          last_event  \\\n",
       "0 2017-02-02 15:37:53      758                 9 2018-01-10 16:00:00   \n",
       "1 2017-10-28 19:35:41      215                 6 2018-01-18 18:30:00   \n",
       "2 2017-01-24 09:29:22      377                 3 2017-09-30 10:00:00   \n",
       "3 2012-10-30 12:59:15      788                57 2018-01-10 18:00:00   \n",
       "4 2015-03-04 09:55:47      603                10 2016-03-22 19:00:00   \n",
       "\n",
       "   last_rsvp  \n",
       "0         72  \n",
       "1         67  \n",
       "2         50  \n",
       "3         50  \n",
       "4         49  "
      ]
     },
     "execution_count": 18,
     "metadata": {},
     "output_type": "execute_result"
    }
   ],
   "source": [
    "top_rsvp = df.sort_values(\"last_rsvp\", ascending=False).reset_index(drop=True)\n",
    "top_rsvp.head(5)"
   ]
  },
  {
   "cell_type": "markdown",
   "metadata": {},
   "source": [
    "## PGH Data Science tops the ranking at 72!  \n",
    "(As it so happens, I was at that event, and we did not have 72 people.  I would estimate it was probably more like 40.  Still pretty good!)\n",
    "\n",
    "## However, it would be a fairer metric to consider more than just a single recent rsvp count for each group...  \n",
    "\n",
    "## 5 seems like a good arbitrary number to use - it should be robust enough to have a more representative mean yet small to keep things as current as possible (and not let rsvps from too long ago spoil the score)\n",
    "\n",
    "## Our original dataset does not contain this information, so let's go back to the meetup.com API and gather the RSVPs for each group's 5 most recently held events"
   ]
  },
  {
   "cell_type": "code",
   "execution_count": 19,
   "metadata": {},
   "outputs": [
    {
     "data": {
      "text/plain": [
       "(115, 7)"
      ]
     },
     "execution_count": 19,
     "metadata": {},
     "output_type": "execute_result"
    }
   ],
   "source": [
    "df.shape"
   ]
  },
  {
   "cell_type": "markdown",
   "metadata": {},
   "source": [
    "### (Note that if you want to gather fresh data, start by putting your API key here.  Otherwise, skip down\n",
    "### and allow the csv file to be imported from when I made the API requests on Jan 27, 2018)"
   ]
  },
  {
   "cell_type": "code",
   "execution_count": 20,
   "metadata": {
    "collapsed": true
   },
   "outputs": [],
   "source": [
    "import requests\n",
    "import time"
   ]
  },
  {
   "cell_type": "code",
   "execution_count": 21,
   "metadata": {},
   "outputs": [],
   "source": [
    "#If you'd like to create an up to date rsvp average, place your meetup.com API key here\n",
    "key = \"XXXXXXXXXXXX\"\n",
    "\n",
    "#note that \"page\" is set to 5.  This will limit our results to the 5 most event events.\n",
    "def get_sample_rsvps(group_url): #take a single group url and return the raw API response with event sample\n",
    "        parameters = {\"key\":key, \"sign\":\"true\", \"status\":\"past\", \"page\":\"5\", \"only\":\"yes_rsvp_count\"}\n",
    "        \n",
    "        search_url = \"https://api.meetup.com/{}/events\".format(group_url)\n",
    "        response = requests.get(search_url, params = parameters) #make the API request\n",
    "        status = response.status_code #get the status of our request\n",
    "        data = response.json() #convert the JSON data to python dictionaries\n",
    "        #print(status)\n",
    "        time.sleep(.25) #keep this timer here! Don't throttle the server and have to wait an hour to be unblocked like me!\n",
    "        return data\n",
    "    \n",
    "    \n",
    "def extract_rsvp_mean(raw_list): #take in a raw list of the API responses and output a new list with mean rsvp counts\n",
    "    mean_rsvps = []\n",
    "    for group in raw_list:\n",
    "        rsvp_list = []\n",
    "        for event in group:\n",
    "            rsvp = int(event[\"yes_rsvp_count\"])\n",
    "            rsvp_list.append(rsvp)\n",
    "        if len(rsvp_list) > 0:    \n",
    "            mean = np.mean(rsvp_list)\n",
    "            mean_rsvps.append(mean)\n",
    "        else:\n",
    "            mean_rsvps.append(np.nan)\n",
    "    return mean_rsvps        "
   ]
  },
  {
   "cell_type": "markdown",
   "metadata": {},
   "source": [
    "### (Remove the #'s from the following lines if you are doing your own API requests)"
   ]
  },
  {
   "cell_type": "code",
   "execution_count": 22,
   "metadata": {},
   "outputs": [],
   "source": [
    "# raw_list = df[\"urlname\"].apply(get_sample_rsvps)\n"
   ]
  },
  {
   "cell_type": "code",
   "execution_count": 23,
   "metadata": {
    "scrolled": true
   },
   "outputs": [
    {
     "data": {
      "text/plain": [
       "[{'yes_rsvp_count': 20}]"
      ]
     },
     "execution_count": 23,
     "metadata": {},
     "output_type": "execute_result"
    }
   ],
   "source": [
    "# print(raw_list[100]) #an example group"
   ]
  },
  {
   "cell_type": "code",
   "execution_count": 24,
   "metadata": {},
   "outputs": [],
   "source": [
    "# mean_rsvp = extract_rsvp_mean(raw_list)"
   ]
  },
  {
   "cell_type": "code",
   "execution_count": 25,
   "metadata": {},
   "outputs": [
    {
     "name": "stdout",
     "output_type": "stream",
     "text": [
      "115 115\n"
     ]
    }
   ],
   "source": [
    "# print(len(raw_list), len(mean_rsvp)) #make sure the number of entries match between the raw data and our mean rsvp list"
   ]
  },
  {
   "cell_type": "code",
   "execution_count": 26,
   "metadata": {},
   "outputs": [
    {
     "data": {
      "text/html": [
       "<div>\n",
       "<style>\n",
       "    .dataframe thead tr:only-child th {\n",
       "        text-align: right;\n",
       "    }\n",
       "\n",
       "    .dataframe thead th {\n",
       "        text-align: left;\n",
       "    }\n",
       "\n",
       "    .dataframe tbody tr th {\n",
       "        vertical-align: top;\n",
       "    }\n",
       "</style>\n",
       "<table border=\"1\" class=\"dataframe\">\n",
       "  <thead>\n",
       "    <tr style=\"text-align: right;\">\n",
       "      <th></th>\n",
       "      <th>urlname</th>\n",
       "      <th>mean_rsvp</th>\n",
       "    </tr>\n",
       "  </thead>\n",
       "  <tbody>\n",
       "    <tr>\n",
       "      <th>0</th>\n",
       "      <td>blockchainpgh</td>\n",
       "      <td>38.6</td>\n",
       "    </tr>\n",
       "    <tr>\n",
       "      <th>1</th>\n",
       "      <td>Pittsburgh-WordPress-Developers-Designers</td>\n",
       "      <td>11.4</td>\n",
       "    </tr>\n",
       "    <tr>\n",
       "      <th>2</th>\n",
       "      <td>Pittsburgh-Code-Supply</td>\n",
       "      <td>10.8</td>\n",
       "    </tr>\n",
       "    <tr>\n",
       "      <th>3</th>\n",
       "      <td>Girl-Develop-It-Pittsburgh</td>\n",
       "      <td>29.6</td>\n",
       "    </tr>\n",
       "    <tr>\n",
       "      <th>4</th>\n",
       "      <td>PGH-Data-Science</td>\n",
       "      <td>71.0</td>\n",
       "    </tr>\n",
       "  </tbody>\n",
       "</table>\n",
       "</div>"
      ],
      "text/plain": [
       "                                     urlname  mean_rsvp\n",
       "0                              blockchainpgh       38.6\n",
       "1  Pittsburgh-WordPress-Developers-Designers       11.4\n",
       "2                     Pittsburgh-Code-Supply       10.8\n",
       "3                 Girl-Develop-It-Pittsburgh       29.6\n",
       "4                           PGH-Data-Science       71.0"
      ]
     },
     "execution_count": 26,
     "metadata": {},
     "output_type": "execute_result"
    }
   ],
   "source": [
    "# mean_rsvps_df = pd.DataFrame(data = df[\"urlname\"], columns = [\"urlname\"])\n",
    "# mean_rsvps_df[\"mean_rsvp\"] = mean_rsvp\n",
    "# mean_rsvps_df.head()"
   ]
  },
  {
   "cell_type": "code",
   "execution_count": 27,
   "metadata": {},
   "outputs": [
    {
     "data": {
      "text/plain": [
       "False    115\n",
       "Name: mean_rsvp, dtype: int64"
      ]
     },
     "execution_count": 27,
     "metadata": {},
     "output_type": "execute_result"
    }
   ],
   "source": [
    "# mean_rsvps_df[\"mean_rsvp\"].isnull().value_counts()"
   ]
  },
  {
   "cell_type": "code",
   "execution_count": 28,
   "metadata": {
    "collapsed": true
   },
   "outputs": [],
   "source": [
    "# Woohoo! No null values, so that means we have the means for all the groups and can export the csv!\n",
    "# mean_rsvps_df.to_csv(\"last_five_rsvp_means.csv\", index=False)"
   ]
  },
  {
   "cell_type": "markdown",
   "metadata": {},
   "source": [
    "## Read in the mean rsvps data and merge it with our main dataframe"
   ]
  },
  {
   "cell_type": "code",
   "execution_count": 29,
   "metadata": {},
   "outputs": [
    {
     "data": {
      "text/html": [
       "<div>\n",
       "<style>\n",
       "    .dataframe thead tr:only-child th {\n",
       "        text-align: right;\n",
       "    }\n",
       "\n",
       "    .dataframe thead th {\n",
       "        text-align: left;\n",
       "    }\n",
       "\n",
       "    .dataframe tbody tr th {\n",
       "        vertical-align: top;\n",
       "    }\n",
       "</style>\n",
       "<table border=\"1\" class=\"dataframe\">\n",
       "  <thead>\n",
       "    <tr style=\"text-align: right;\">\n",
       "      <th></th>\n",
       "      <th>urlname</th>\n",
       "      <th>mean_rsvp</th>\n",
       "    </tr>\n",
       "  </thead>\n",
       "  <tbody>\n",
       "    <tr>\n",
       "      <th>0</th>\n",
       "      <td>blockchainpgh</td>\n",
       "      <td>38.6</td>\n",
       "    </tr>\n",
       "    <tr>\n",
       "      <th>1</th>\n",
       "      <td>Pittsburgh-WordPress-Developers-Designers</td>\n",
       "      <td>11.4</td>\n",
       "    </tr>\n",
       "    <tr>\n",
       "      <th>2</th>\n",
       "      <td>Pittsburgh-Code-Supply</td>\n",
       "      <td>10.8</td>\n",
       "    </tr>\n",
       "    <tr>\n",
       "      <th>3</th>\n",
       "      <td>Girl-Develop-It-Pittsburgh</td>\n",
       "      <td>29.6</td>\n",
       "    </tr>\n",
       "    <tr>\n",
       "      <th>4</th>\n",
       "      <td>PGH-Data-Science</td>\n",
       "      <td>71.0</td>\n",
       "    </tr>\n",
       "  </tbody>\n",
       "</table>\n",
       "</div>"
      ],
      "text/plain": [
       "                                     urlname  mean_rsvp\n",
       "0                              blockchainpgh       38.6\n",
       "1  Pittsburgh-WordPress-Developers-Designers       11.4\n",
       "2                     Pittsburgh-Code-Supply       10.8\n",
       "3                 Girl-Develop-It-Pittsburgh       29.6\n",
       "4                           PGH-Data-Science       71.0"
      ]
     },
     "execution_count": 29,
     "metadata": {},
     "output_type": "execute_result"
    }
   ],
   "source": [
    "#read in the mean rsvp count data collected on Jan 27, 2018\n",
    "rsvp_df = pd.read_csv(\"last_five_rsvp_means.csv\")\n",
    "rsvp_df.head()"
   ]
  },
  {
   "cell_type": "code",
   "execution_count": 30,
   "metadata": {},
   "outputs": [
    {
     "data": {
      "text/html": [
       "<div>\n",
       "<style>\n",
       "    .dataframe thead tr:only-child th {\n",
       "        text-align: right;\n",
       "    }\n",
       "\n",
       "    .dataframe thead th {\n",
       "        text-align: left;\n",
       "    }\n",
       "\n",
       "    .dataframe tbody tr th {\n",
       "        vertical-align: top;\n",
       "    }\n",
       "</style>\n",
       "<table border=\"1\" class=\"dataframe\">\n",
       "  <thead>\n",
       "    <tr style=\"text-align: right;\">\n",
       "      <th></th>\n",
       "      <th>name</th>\n",
       "      <th>urlname</th>\n",
       "      <th>created</th>\n",
       "      <th>members</th>\n",
       "      <th>past_event_count</th>\n",
       "      <th>last_event</th>\n",
       "      <th>last_rsvp</th>\n",
       "      <th>mean_rsvp</th>\n",
       "    </tr>\n",
       "  </thead>\n",
       "  <tbody>\n",
       "    <tr>\n",
       "      <th>0</th>\n",
       "      <td>Blockchain Developers and Enthusiasts United</td>\n",
       "      <td>blockchainpgh</td>\n",
       "      <td>2017-10-28 19:35:41</td>\n",
       "      <td>215</td>\n",
       "      <td>6</td>\n",
       "      <td>2018-01-18 18:30:00</td>\n",
       "      <td>67</td>\n",
       "      <td>38.6</td>\n",
       "    </tr>\n",
       "    <tr>\n",
       "      <th>1</th>\n",
       "      <td>WordPress Pittsburgh</td>\n",
       "      <td>Pittsburgh-WordPress-Developers-Designers</td>\n",
       "      <td>2014-08-06 08:00:37</td>\n",
       "      <td>822</td>\n",
       "      <td>57</td>\n",
       "      <td>2018-01-09 07:30:00</td>\n",
       "      <td>17</td>\n",
       "      <td>11.4</td>\n",
       "    </tr>\n",
       "    <tr>\n",
       "      <th>2</th>\n",
       "      <td>Pittsburgh Code &amp; Supply</td>\n",
       "      <td>Pittsburgh-Code-Supply</td>\n",
       "      <td>2014-03-20 09:40:46</td>\n",
       "      <td>3562</td>\n",
       "      <td>314</td>\n",
       "      <td>2018-01-24 19:00:00</td>\n",
       "      <td>26</td>\n",
       "      <td>10.8</td>\n",
       "    </tr>\n",
       "    <tr>\n",
       "      <th>3</th>\n",
       "      <td>Girl Develop It Pittsburgh</td>\n",
       "      <td>Girl-Develop-It-Pittsburgh</td>\n",
       "      <td>2012-06-13 20:49:34</td>\n",
       "      <td>2058</td>\n",
       "      <td>96</td>\n",
       "      <td>2018-01-18 19:00:00</td>\n",
       "      <td>37</td>\n",
       "      <td>29.6</td>\n",
       "    </tr>\n",
       "    <tr>\n",
       "      <th>4</th>\n",
       "      <td>PGH Data Science</td>\n",
       "      <td>PGH-Data-Science</td>\n",
       "      <td>2017-02-02 15:37:53</td>\n",
       "      <td>758</td>\n",
       "      <td>9</td>\n",
       "      <td>2018-01-10 16:00:00</td>\n",
       "      <td>72</td>\n",
       "      <td>71.0</td>\n",
       "    </tr>\n",
       "  </tbody>\n",
       "</table>\n",
       "</div>"
      ],
      "text/plain": [
       "                                           name  \\\n",
       "0  Blockchain Developers and Enthusiasts United   \n",
       "1                          WordPress Pittsburgh   \n",
       "2                      Pittsburgh Code & Supply   \n",
       "3                    Girl Develop It Pittsburgh   \n",
       "4                              PGH Data Science   \n",
       "\n",
       "                                     urlname             created  members  \\\n",
       "0                              blockchainpgh 2017-10-28 19:35:41      215   \n",
       "1  Pittsburgh-WordPress-Developers-Designers 2014-08-06 08:00:37      822   \n",
       "2                     Pittsburgh-Code-Supply 2014-03-20 09:40:46     3562   \n",
       "3                 Girl-Develop-It-Pittsburgh 2012-06-13 20:49:34     2058   \n",
       "4                           PGH-Data-Science 2017-02-02 15:37:53      758   \n",
       "\n",
       "   past_event_count          last_event  last_rsvp  mean_rsvp  \n",
       "0                 6 2018-01-18 18:30:00         67       38.6  \n",
       "1                57 2018-01-09 07:30:00         17       11.4  \n",
       "2               314 2018-01-24 19:00:00         26       10.8  \n",
       "3                96 2018-01-18 19:00:00         37       29.6  \n",
       "4                 9 2018-01-10 16:00:00         72       71.0  "
      ]
     },
     "execution_count": 30,
     "metadata": {},
     "output_type": "execute_result"
    }
   ],
   "source": [
    "#merge in the data\n",
    "df = pd.merge(df,rsvp_df,how=\"left\",on=\"urlname\")\n",
    "df.head()"
   ]
  },
  {
   "cell_type": "code",
   "execution_count": 31,
   "metadata": {},
   "outputs": [
    {
     "data": {
      "text/html": [
       "<div>\n",
       "<style>\n",
       "    .dataframe thead tr:only-child th {\n",
       "        text-align: right;\n",
       "    }\n",
       "\n",
       "    .dataframe thead th {\n",
       "        text-align: left;\n",
       "    }\n",
       "\n",
       "    .dataframe tbody tr th {\n",
       "        vertical-align: top;\n",
       "    }\n",
       "</style>\n",
       "<table border=\"1\" class=\"dataframe\">\n",
       "  <thead>\n",
       "    <tr style=\"text-align: right;\">\n",
       "      <th></th>\n",
       "      <th>name</th>\n",
       "      <th>urlname</th>\n",
       "      <th>created</th>\n",
       "      <th>members</th>\n",
       "      <th>past_event_count</th>\n",
       "      <th>last_event</th>\n",
       "      <th>last_rsvp</th>\n",
       "      <th>mean_rsvp</th>\n",
       "    </tr>\n",
       "  </thead>\n",
       "  <tbody>\n",
       "    <tr>\n",
       "      <th>0</th>\n",
       "      <td>PGH Data Science</td>\n",
       "      <td>PGH-Data-Science</td>\n",
       "      <td>2017-02-02 15:37:53</td>\n",
       "      <td>758</td>\n",
       "      <td>9</td>\n",
       "      <td>2018-01-10 16:00:00</td>\n",
       "      <td>72</td>\n",
       "      <td>71.000000</td>\n",
       "    </tr>\n",
       "    <tr>\n",
       "      <th>1</th>\n",
       "      <td>Health 2.0 Pittsburgh</td>\n",
       "      <td>Health20-Pittsburgh</td>\n",
       "      <td>2013-01-09 12:44:37</td>\n",
       "      <td>742</td>\n",
       "      <td>28</td>\n",
       "      <td>2017-02-22 17:00:00</td>\n",
       "      <td>12</td>\n",
       "      <td>62.800000</td>\n",
       "    </tr>\n",
       "    <tr>\n",
       "      <th>2</th>\n",
       "      <td>ProductTank Pittsburgh</td>\n",
       "      <td>ProductTank-Pittsburgh</td>\n",
       "      <td>2016-09-09 01:55:24</td>\n",
       "      <td>439</td>\n",
       "      <td>7</td>\n",
       "      <td>2018-01-16 18:00:00</td>\n",
       "      <td>35</td>\n",
       "      <td>51.600000</td>\n",
       "    </tr>\n",
       "    <tr>\n",
       "      <th>3</th>\n",
       "      <td>Google Developer Group (GDG) Pittsburgh</td>\n",
       "      <td>gdg-pitt</td>\n",
       "      <td>2017-01-24 09:29:22</td>\n",
       "      <td>377</td>\n",
       "      <td>3</td>\n",
       "      <td>2017-09-30 10:00:00</td>\n",
       "      <td>50</td>\n",
       "      <td>50.333333</td>\n",
       "    </tr>\n",
       "    <tr>\n",
       "      <th>4</th>\n",
       "      <td>Pittsburgh JavaScript</td>\n",
       "      <td>Pittsburgh-JavaScript</td>\n",
       "      <td>2013-04-01 14:14:43</td>\n",
       "      <td>744</td>\n",
       "      <td>29</td>\n",
       "      <td>2017-06-06 19:00:00</td>\n",
       "      <td>29</td>\n",
       "      <td>45.000000</td>\n",
       "    </tr>\n",
       "  </tbody>\n",
       "</table>\n",
       "</div>"
      ],
      "text/plain": [
       "                                      name                 urlname  \\\n",
       "0                         PGH Data Science        PGH-Data-Science   \n",
       "1                    Health 2.0 Pittsburgh     Health20-Pittsburgh   \n",
       "2                   ProductTank Pittsburgh  ProductTank-Pittsburgh   \n",
       "3  Google Developer Group (GDG) Pittsburgh                gdg-pitt   \n",
       "4                    Pittsburgh JavaScript   Pittsburgh-JavaScript   \n",
       "\n",
       "              created  members  past_event_count          last_event  \\\n",
       "0 2017-02-02 15:37:53      758                 9 2018-01-10 16:00:00   \n",
       "1 2013-01-09 12:44:37      742                28 2017-02-22 17:00:00   \n",
       "2 2016-09-09 01:55:24      439                 7 2018-01-16 18:00:00   \n",
       "3 2017-01-24 09:29:22      377                 3 2017-09-30 10:00:00   \n",
       "4 2013-04-01 14:14:43      744                29 2017-06-06 19:00:00   \n",
       "\n",
       "   last_rsvp  mean_rsvp  \n",
       "0         72  71.000000  \n",
       "1         12  62.800000  \n",
       "2         35  51.600000  \n",
       "3         50  50.333333  \n",
       "4         29  45.000000  "
      ]
     },
     "execution_count": 31,
     "metadata": {},
     "output_type": "execute_result"
    }
   ],
   "source": [
    "top_rsvp = df.sort_values(\"mean_rsvp\", ascending=False).reset_index(drop=True)\n",
    "top_rsvp.head(5)"
   ]
  },
  {
   "cell_type": "code",
   "execution_count": 35,
   "metadata": {},
   "outputs": [
    {
     "data": {
      "text/html": [
       "<div>\n",
       "<style>\n",
       "    .dataframe thead tr:only-child th {\n",
       "        text-align: right;\n",
       "    }\n",
       "\n",
       "    .dataframe thead th {\n",
       "        text-align: left;\n",
       "    }\n",
       "\n",
       "    .dataframe tbody tr th {\n",
       "        vertical-align: top;\n",
       "    }\n",
       "</style>\n",
       "<table border=\"1\" class=\"dataframe\">\n",
       "  <thead>\n",
       "    <tr style=\"text-align: right;\">\n",
       "      <th></th>\n",
       "      <th>name</th>\n",
       "      <th>created</th>\n",
       "      <th>members</th>\n",
       "      <th>past_event_count</th>\n",
       "      <th>last_event</th>\n",
       "      <th>last_rsvp</th>\n",
       "      <th>mean_rsvp</th>\n",
       "    </tr>\n",
       "  </thead>\n",
       "  <tbody>\n",
       "    <tr>\n",
       "      <th>0</th>\n",
       "      <td>PGH Data Science</td>\n",
       "      <td>2017-02-02 15:37:53</td>\n",
       "      <td>758</td>\n",
       "      <td>9</td>\n",
       "      <td>2018-01-10 16:00:00</td>\n",
       "      <td>72</td>\n",
       "      <td>71.000000</td>\n",
       "    </tr>\n",
       "    <tr>\n",
       "      <th>1</th>\n",
       "      <td>Health 2.0 Pittsburgh</td>\n",
       "      <td>2013-01-09 12:44:37</td>\n",
       "      <td>742</td>\n",
       "      <td>28</td>\n",
       "      <td>2017-02-22 17:00:00</td>\n",
       "      <td>12</td>\n",
       "      <td>62.800000</td>\n",
       "    </tr>\n",
       "    <tr>\n",
       "      <th>2</th>\n",
       "      <td>ProductTank Pittsburgh</td>\n",
       "      <td>2016-09-09 01:55:24</td>\n",
       "      <td>439</td>\n",
       "      <td>7</td>\n",
       "      <td>2018-01-16 18:00:00</td>\n",
       "      <td>35</td>\n",
       "      <td>51.600000</td>\n",
       "    </tr>\n",
       "    <tr>\n",
       "      <th>3</th>\n",
       "      <td>Google Developer Group (GDG) Pittsburgh</td>\n",
       "      <td>2017-01-24 09:29:22</td>\n",
       "      <td>377</td>\n",
       "      <td>3</td>\n",
       "      <td>2017-09-30 10:00:00</td>\n",
       "      <td>50</td>\n",
       "      <td>50.333333</td>\n",
       "    </tr>\n",
       "    <tr>\n",
       "      <th>4</th>\n",
       "      <td>Pittsburgh JavaScript</td>\n",
       "      <td>2013-04-01 14:14:43</td>\n",
       "      <td>744</td>\n",
       "      <td>29</td>\n",
       "      <td>2017-06-06 19:00:00</td>\n",
       "      <td>29</td>\n",
       "      <td>45.000000</td>\n",
       "    </tr>\n",
       "  </tbody>\n",
       "</table>\n",
       "</div>"
      ],
      "text/plain": [
       "                                      name             created  members  \\\n",
       "0                         PGH Data Science 2017-02-02 15:37:53      758   \n",
       "1                    Health 2.0 Pittsburgh 2013-01-09 12:44:37      742   \n",
       "2                   ProductTank Pittsburgh 2016-09-09 01:55:24      439   \n",
       "3  Google Developer Group (GDG) Pittsburgh 2017-01-24 09:29:22      377   \n",
       "4                    Pittsburgh JavaScript 2013-04-01 14:14:43      744   \n",
       "\n",
       "   past_event_count          last_event  last_rsvp  mean_rsvp  \n",
       "0                 9 2018-01-10 16:00:00         72  71.000000  \n",
       "1                28 2017-02-22 17:00:00         12  62.800000  \n",
       "2                 7 2018-01-16 18:00:00         35  51.600000  \n",
       "3                 3 2017-09-30 10:00:00         50  50.333333  \n",
       "4                29 2017-06-06 19:00:00         29  45.000000  "
      ]
     },
     "execution_count": 35,
     "metadata": {},
     "output_type": "execute_result"
    }
   ],
   "source": [
    "# since we no longer need the urlname, let's drop it and free up some clutter\n",
    "df.drop([\"urlname\"], axis = 1, inplace=True)\n",
    "top_rsvp.drop([\"urlname\"], axis = 1, inplace=True)\n",
    "\n",
    "top_rsvp.head(5)"
   ]
  },
  {
   "cell_type": "markdown",
   "metadata": {},
   "source": [
    "## RSVP count does seem like an important metric for popularity.\n",
    "\n",
    "Yet, check out the Google Developer Group in slot 2.  It has only had **3 events in the past year!**\n",
    "\n",
    "## Why don't we rank groups by how active they have been?\n"
   ]
  },
  {
   "cell_type": "markdown",
   "metadata": {},
   "source": [
    "One way to do this would be to see ***which groups have had the most events.***  However, this would **bias our results towards groups that have been around longer.** \n",
    "\n",
    "On the other hand, if we ***rank the groups by how recent their most recent event was***, this might not tell us how frequent the groups **USUALLY** have events.\n",
    "\n",
    "## A good solution is therefore to find the average wait time between events.  \n",
    "We can calculate this by dividing the age of the group by the number of events it has had."
   ]
  },
  {
   "cell_type": "code",
   "execution_count": 32,
   "metadata": {
    "collapsed": true
   },
   "outputs": [],
   "source": [
    "# We can create a new column with a measure of how frequently the group hosts events.\n",
    "\n",
    "#we won't be needing the last event info now\n",
    "df.drop([\"last_event\"], axis = 1, inplace=True)\n",
    "\n",
    "query_date = dt.date(2018,1,23) #this is when this particular dataset was generated, so we will use it to calculate group age\n",
    "\n",
    "df[\"created\"] = [d.date() for d in df[\"created\"]] #we only need the date from the original column (ignore time)\n",
    "age = query_date - df[\"created\"] #find the age in days by subtracting creation date from the date the dataset was generated\n",
    "df[\"event_freq\"] = age.dt.days / df[\"past_event_count\"].astype(float) #needs to be float for division"
   ]
  },
  {
   "cell_type": "code",
   "execution_count": 36,
   "metadata": {},
   "outputs": [
    {
     "data": {
      "text/html": [
       "<div>\n",
       "<style>\n",
       "    .dataframe thead tr:only-child th {\n",
       "        text-align: right;\n",
       "    }\n",
       "\n",
       "    .dataframe thead th {\n",
       "        text-align: left;\n",
       "    }\n",
       "\n",
       "    .dataframe tbody tr th {\n",
       "        vertical-align: top;\n",
       "    }\n",
       "</style>\n",
       "<table border=\"1\" class=\"dataframe\">\n",
       "  <thead>\n",
       "    <tr style=\"text-align: right;\">\n",
       "      <th></th>\n",
       "      <th>name</th>\n",
       "      <th>created</th>\n",
       "      <th>members</th>\n",
       "      <th>past_event_count</th>\n",
       "      <th>last_rsvp</th>\n",
       "      <th>mean_rsvp</th>\n",
       "      <th>event_freq</th>\n",
       "    </tr>\n",
       "  </thead>\n",
       "  <tbody>\n",
       "    <tr>\n",
       "      <th>0</th>\n",
       "      <td>Pittsburgh Code &amp; Supply</td>\n",
       "      <td>2014-03-20</td>\n",
       "      <td>3562</td>\n",
       "      <td>314</td>\n",
       "      <td>26</td>\n",
       "      <td>10.8</td>\n",
       "      <td>4.474522</td>\n",
       "    </tr>\n",
       "    <tr>\n",
       "      <th>1</th>\n",
       "      <td>Pittsburgh Rust Coffee</td>\n",
       "      <td>2016-08-24</td>\n",
       "      <td>221</td>\n",
       "      <td>74</td>\n",
       "      <td>3</td>\n",
       "      <td>3.4</td>\n",
       "      <td>6.986486</td>\n",
       "    </tr>\n",
       "    <tr>\n",
       "      <th>2</th>\n",
       "      <td>TechShop Pittsburgh</td>\n",
       "      <td>2013-03-27</td>\n",
       "      <td>663</td>\n",
       "      <td>251</td>\n",
       "      <td>0</td>\n",
       "      <td>5.8</td>\n",
       "      <td>7.023904</td>\n",
       "    </tr>\n",
       "    <tr>\n",
       "      <th>3</th>\n",
       "      <td>Next Gen Native Hadoop Big Data Apex Users Gro...</td>\n",
       "      <td>2016-07-06</td>\n",
       "      <td>135</td>\n",
       "      <td>75</td>\n",
       "      <td>3</td>\n",
       "      <td>3.0</td>\n",
       "      <td>7.546667</td>\n",
       "    </tr>\n",
       "    <tr>\n",
       "      <th>4</th>\n",
       "      <td>Big Data (Next Gen Hadoop) Ingest &amp; Transform,...</td>\n",
       "      <td>2016-07-05</td>\n",
       "      <td>323</td>\n",
       "      <td>74</td>\n",
       "      <td>6</td>\n",
       "      <td>3.2</td>\n",
       "      <td>7.662162</td>\n",
       "    </tr>\n",
       "  </tbody>\n",
       "</table>\n",
       "</div>"
      ],
      "text/plain": [
       "                                                name     created  members  \\\n",
       "0                           Pittsburgh Code & Supply  2014-03-20     3562   \n",
       "1                             Pittsburgh Rust Coffee  2016-08-24      221   \n",
       "2                                TechShop Pittsburgh  2013-03-27      663   \n",
       "3  Next Gen Native Hadoop Big Data Apex Users Gro...  2016-07-06      135   \n",
       "4  Big Data (Next Gen Hadoop) Ingest & Transform,...  2016-07-05      323   \n",
       "\n",
       "   past_event_count  last_rsvp  mean_rsvp  event_freq  \n",
       "0               314         26       10.8    4.474522  \n",
       "1                74          3        3.4    6.986486  \n",
       "2               251          0        5.8    7.023904  \n",
       "3                75          3        3.0    7.546667  \n",
       "4                74          6        3.2    7.662162  "
      ]
     },
     "execution_count": 36,
     "metadata": {},
     "output_type": "execute_result"
    }
   ],
   "source": [
    "most_active = df.sort_values(\"event_freq\").reset_index(drop=True)\n",
    "most_active.head(5)"
   ]
  },
  {
   "cell_type": "markdown",
   "metadata": {},
   "source": [
    "## Looks like the top groups hold events on a weekly basis\n",
    "\n",
    "## For the 2nd time now Pittsburgh Code & Supply takes a top slot!"
   ]
  },
  {
   "cell_type": "markdown",
   "metadata": {},
   "source": [
    "# We now have 3 criteria to evaluate and rank the tech groups:\n",
    "- total membership\n",
    "- Mean rsvp count (for last 5 events)\n",
    "- event frequency\n",
    "\n",
    "## Let's convert the scores for the criteria into percentiles and then average them for our final ranking!"
   ]
  },
  {
   "cell_type": "code",
   "execution_count": 34,
   "metadata": {},
   "outputs": [
    {
     "name": "stderr",
     "output_type": "stream",
     "text": [
      "/Users/andrewgraves/anaconda3/lib/python3.6/site-packages/ipykernel_launcher.py:24: SettingWithCopyWarning: \n",
      "A value is trying to be set on a copy of a slice from a DataFrame.\n",
      "Try using .loc[row_indexer,col_indexer] = value instead\n",
      "\n",
      "See the caveats in the documentation: http://pandas.pydata.org/pandas-docs/stable/indexing.html#indexing-view-versus-copy\n"
     ]
    },
    {
     "data": {
      "text/html": [
       "<div>\n",
       "<style>\n",
       "    .dataframe thead tr:only-child th {\n",
       "        text-align: right;\n",
       "    }\n",
       "\n",
       "    .dataframe thead th {\n",
       "        text-align: left;\n",
       "    }\n",
       "\n",
       "    .dataframe tbody tr th {\n",
       "        vertical-align: top;\n",
       "    }\n",
       "</style>\n",
       "<table border=\"1\" class=\"dataframe\">\n",
       "  <thead>\n",
       "    <tr style=\"text-align: right;\">\n",
       "      <th></th>\n",
       "      <th>name</th>\n",
       "      <th>membership_score</th>\n",
       "      <th>rsvp_score</th>\n",
       "      <th>freq_score</th>\n",
       "      <th>FINAL SCORE</th>\n",
       "    </tr>\n",
       "  </thead>\n",
       "  <tbody>\n",
       "    <tr>\n",
       "      <th>1</th>\n",
       "      <td>Pittsburgh .NET User Group (PGHDOTNET)</td>\n",
       "      <td>93.043478</td>\n",
       "      <td>93.913043</td>\n",
       "      <td>86.086957</td>\n",
       "      <td>91.014493</td>\n",
       "    </tr>\n",
       "    <tr>\n",
       "      <th>2</th>\n",
       "      <td>Girl Develop It Pittsburgh</td>\n",
       "      <td>99.130435</td>\n",
       "      <td>83.478261</td>\n",
       "      <td>87.826087</td>\n",
       "      <td>90.144928</td>\n",
       "    </tr>\n",
       "    <tr>\n",
       "      <th>3</th>\n",
       "      <td>Pittsburgh Agile (@PittAgile | #PittAgile)</td>\n",
       "      <td>96.521739</td>\n",
       "      <td>92.608696</td>\n",
       "      <td>74.782609</td>\n",
       "      <td>87.971014</td>\n",
       "    </tr>\n",
       "    <tr>\n",
       "      <th>4</th>\n",
       "      <td>PGH Data Science</td>\n",
       "      <td>88.695652</td>\n",
       "      <td>100.000000</td>\n",
       "      <td>71.304348</td>\n",
       "      <td>86.666667</td>\n",
       "    </tr>\n",
       "    <tr>\n",
       "      <th>5</th>\n",
       "      <td>Pgh Tech Meetup</td>\n",
       "      <td>98.260870</td>\n",
       "      <td>70.434783</td>\n",
       "      <td>90.434783</td>\n",
       "      <td>86.376812</td>\n",
       "    </tr>\n",
       "    <tr>\n",
       "      <th>6</th>\n",
       "      <td>Pittsburgh Code &amp; Supply</td>\n",
       "      <td>100.000000</td>\n",
       "      <td>48.695652</td>\n",
       "      <td>99.130435</td>\n",
       "      <td>82.608696</td>\n",
       "    </tr>\n",
       "    <tr>\n",
       "      <th>7</th>\n",
       "      <td>ngPittsburgh</td>\n",
       "      <td>94.782609</td>\n",
       "      <td>94.782609</td>\n",
       "      <td>58.260870</td>\n",
       "      <td>82.608696</td>\n",
       "    </tr>\n",
       "    <tr>\n",
       "      <th>8</th>\n",
       "      <td>Code for Pittsburgh, our Region's Code for Ame...</td>\n",
       "      <td>86.086957</td>\n",
       "      <td>62.608696</td>\n",
       "      <td>94.782609</td>\n",
       "      <td>81.159420</td>\n",
       "    </tr>\n",
       "    <tr>\n",
       "      <th>9</th>\n",
       "      <td>Health 2.0 Pittsburgh</td>\n",
       "      <td>86.956522</td>\n",
       "      <td>99.130435</td>\n",
       "      <td>56.521739</td>\n",
       "      <td>80.869565</td>\n",
       "    </tr>\n",
       "    <tr>\n",
       "      <th>10</th>\n",
       "      <td>Pittsburgh JavaScript</td>\n",
       "      <td>87.826087</td>\n",
       "      <td>96.521739</td>\n",
       "      <td>57.391304</td>\n",
       "      <td>80.579710</td>\n",
       "    </tr>\n",
       "  </tbody>\n",
       "</table>\n",
       "</div>"
      ],
      "text/plain": [
       "                                                 name  membership_score  \\\n",
       "1              Pittsburgh .NET User Group (PGHDOTNET)         93.043478   \n",
       "2                          Girl Develop It Pittsburgh         99.130435   \n",
       "3          Pittsburgh Agile (@PittAgile | #PittAgile)         96.521739   \n",
       "4                                    PGH Data Science         88.695652   \n",
       "5                                     Pgh Tech Meetup         98.260870   \n",
       "6                            Pittsburgh Code & Supply        100.000000   \n",
       "7                                        ngPittsburgh         94.782609   \n",
       "8   Code for Pittsburgh, our Region's Code for Ame...         86.086957   \n",
       "9                               Health 2.0 Pittsburgh         86.956522   \n",
       "10                              Pittsburgh JavaScript         87.826087   \n",
       "\n",
       "    rsvp_score  freq_score  FINAL SCORE  \n",
       "1    93.913043   86.086957    91.014493  \n",
       "2    83.478261   87.826087    90.144928  \n",
       "3    92.608696   74.782609    87.971014  \n",
       "4   100.000000   71.304348    86.666667  \n",
       "5    70.434783   90.434783    86.376812  \n",
       "6    48.695652   99.130435    82.608696  \n",
       "7    94.782609   58.260870    82.608696  \n",
       "8    62.608696   94.782609    81.159420  \n",
       "9    99.130435   56.521739    80.869565  \n",
       "10   96.521739   57.391304    80.579710  "
      ]
     },
     "execution_count": 34,
     "metadata": {},
     "output_type": "execute_result"
    }
   ],
   "source": [
    "from scipy.stats import percentileofscore\n",
    "\n",
    "#first we need to create sorted arrays of the column data\n",
    "sorted_membership = sorted(most_active[\"members\"])\n",
    "sorted_rsvp = sorted(most_active[\"mean_rsvp\"])\n",
    "sorted_freq = sorted(most_active[\"event_freq\"])\n",
    "\n",
    "#now we can use the percentile function on the columns and calculate our scores\n",
    "most_active[\"membership_score\"] = most_active[\"members\"].apply(lambda x: percentileofscore(sorted_membership, x))\n",
    "most_active[\"rsvp_score\"] = most_active[\"mean_rsvp\"].apply(lambda x: percentileofscore(sorted_rsvp, x))\n",
    "\n",
    "#When it comes to frequency, smaller is better, so we subtract the percentile from 100 to reward groups with more frequent events!\n",
    "most_active[\"freq_score\"] = 100 - (most_active[\"event_freq\"].apply(lambda x: percentileofscore(sorted_freq, x)))\n",
    "\n",
    "#average the 3 scores for our final score and sort the dataframe on this final score\n",
    "most_active[\"FINAL SCORE\"] = most_active[[\"membership_score\",\"rsvp_score\",\"freq_score\"]].mean(axis=1)\n",
    "most_active.sort_values(\"FINAL SCORE\", inplace = True, ascending = False)\n",
    "most_active.reset_index(drop=True, inplace = True)\n",
    "\n",
    "#let's clean up the output with only the scores\n",
    "final_df = most_active[[\"name\",\"membership_score\",\"rsvp_score\",\"freq_score\",\"FINAL SCORE\"]]\n",
    "\n",
    "#since we are creating ranks, lets set the index starting with the number 1 instead of zero\n",
    "final_df[\"Rank\"] = [i for i in range(1,len(final_df) + 1)]\n",
    "final_df = final_df.set_index(\"Rank\", drop=True)\n",
    "del final_df.index.name #don't display the name \"rank\" above the numbers\n",
    "final_df.head(10)"
   ]
  },
  {
   "cell_type": "markdown",
   "metadata": {
    "collapsed": true
   },
   "source": [
    "# Here are our top ten most prominent tech groups in Pittsburgh!\n",
    "\n",
    "### [Take it further]: should we weight any of the categories more heavily than the others or keep them all equal when we calculate the final score?"
   ]
  },
  {
   "cell_type": "code",
   "execution_count": 37,
   "metadata": {},
   "outputs": [
    {
     "data": {
      "text/html": [
       "<div>\n",
       "<style>\n",
       "    .dataframe thead tr:only-child th {\n",
       "        text-align: right;\n",
       "    }\n",
       "\n",
       "    .dataframe thead th {\n",
       "        text-align: left;\n",
       "    }\n",
       "\n",
       "    .dataframe tbody tr th {\n",
       "        vertical-align: top;\n",
       "    }\n",
       "</style>\n",
       "<table border=\"1\" class=\"dataframe\">\n",
       "  <thead>\n",
       "    <tr style=\"text-align: right;\">\n",
       "      <th></th>\n",
       "      <th>name</th>\n",
       "      <th>membership_score</th>\n",
       "      <th>rsvp_score</th>\n",
       "      <th>freq_score</th>\n",
       "      <th>FINAL SCORE</th>\n",
       "    </tr>\n",
       "  </thead>\n",
       "  <tbody>\n",
       "    <tr>\n",
       "      <th>12</th>\n",
       "      <td>Steel City Information Security</td>\n",
       "      <td>90.434783</td>\n",
       "      <td>65.217391</td>\n",
       "      <td>76.521739</td>\n",
       "      <td>77.391304</td>\n",
       "    </tr>\n",
       "  </tbody>\n",
       "</table>\n",
       "</div>"
      ],
      "text/plain": [
       "                               name  membership_score  rsvp_score  freq_score  \\\n",
       "12  Steel City Information Security         90.434783   65.217391   76.521739   \n",
       "\n",
       "    FINAL SCORE  \n",
       "12    77.391304  "
      ]
     },
     "execution_count": 37,
     "metadata": {},
     "output_type": "execute_result"
    }
   ],
   "source": [
    "final_df[final_df[\"name\"] == \"Steel City Information Security\"]"
   ]
  },
  {
   "cell_type": "code",
   "execution_count": null,
   "metadata": {
    "collapsed": true
   },
   "outputs": [],
   "source": []
  }
 ],
 "metadata": {
  "kernelspec": {
   "display_name": "Python 3",
   "language": "python",
   "name": "python3"
  },
  "language_info": {
   "codemirror_mode": {
    "name": "ipython",
    "version": 3
   },
   "file_extension": ".py",
   "mimetype": "text/x-python",
   "name": "python",
   "nbconvert_exporter": "python",
   "pygments_lexer": "ipython3",
   "version": "3.6.3"
  }
 },
 "nbformat": 4,
 "nbformat_minor": 2
}
